{
 "cells": [
  {
   "cell_type": "markdown",
   "metadata": {},
   "source": [
    "# Wrangle\n",
    "- identify the way to combine both "
   ]
  },
  {
   "cell_type": "markdown",
   "metadata": {},
   "source": [
    "## Data set up"
   ]
  },
  {
   "cell_type": "code",
   "execution_count": 2,
   "metadata": {},
   "outputs": [],
   "source": [
    "# imports\n",
    "from wrangle import get_clean_gdf10, get_clean_gdf20, get_clean_mac\n",
    "import pandas as pd\n",
    "import requests"
   ]
  },
  {
   "cell_type": "code",
   "execution_count": 3,
   "metadata": {},
   "outputs": [
    {
     "name": "stdout",
     "output_type": "stream",
     "text": [
      "Dropping 24008 rows\n"
     ]
    }
   ],
   "source": [
    "# getting the data\n",
    "mac = get_clean_mac()\n",
    "gdf10 = get_clean_gdf10()"
   ]
  },
  {
   "cell_type": "code",
   "execution_count": 4,
   "metadata": {},
   "outputs": [
    {
     "data": {
      "text/html": [
       "<div>\n",
       "<style scoped>\n",
       "    .dataframe tbody tr th:only-of-type {\n",
       "        vertical-align: middle;\n",
       "    }\n",
       "\n",
       "    .dataframe tbody tr th {\n",
       "        vertical-align: top;\n",
       "    }\n",
       "\n",
       "    .dataframe thead th {\n",
       "        text-align: right;\n",
       "    }\n",
       "</style>\n",
       "<table border=\"1\" class=\"dataframe\">\n",
       "  <thead>\n",
       "    <tr style=\"text-align: right;\">\n",
       "      <th></th>\n",
       "      <th>keyword</th>\n",
       "      <th>subcategory</th>\n",
       "      <th>incident_address</th>\n",
       "      <th>township</th>\n",
       "      <th>city</th>\n",
       "      <th>zip</th>\n",
       "      <th>council_district</th>\n",
       "      <th>created</th>\n",
       "      <th>last_modified</th>\n",
       "      <th>closed</th>\n",
       "      <th>status</th>\n",
       "      <th>origin</th>\n",
       "      <th>close_time</th>\n",
       "    </tr>\n",
       "  </thead>\n",
       "  <tbody>\n",
       "    <tr>\n",
       "      <th>8010</th>\n",
       "      <td>Animal</td>\n",
       "      <td>Dead</td>\n",
       "      <td>903 N OXFORD ST</td>\n",
       "      <td>CENTER</td>\n",
       "      <td>INDIANAPOLIS</td>\n",
       "      <td>46201</td>\n",
       "      <td>17.0</td>\n",
       "      <td>2019-12-02 17:20:19+00:00</td>\n",
       "      <td>2019-12-03 21:32:36+00:00</td>\n",
       "      <td>2019-12-03 21:32:36+00:00</td>\n",
       "      <td>Closed</td>\n",
       "      <td>Phone</td>\n",
       "      <td>1 days 04:12:17</td>\n",
       "    </tr>\n",
       "    <tr>\n",
       "      <th>8011</th>\n",
       "      <td>Abandoned Vehicle</td>\n",
       "      <td>Street/Alley (ABV)</td>\n",
       "      <td>11506 LULLSTREAM DR</td>\n",
       "      <td>WARREN</td>\n",
       "      <td>INDIANAPOLIS</td>\n",
       "      <td>46229</td>\n",
       "      <td>14.0</td>\n",
       "      <td>2019-12-02 17:29:46+00:00</td>\n",
       "      <td>2019-12-06 17:30:02+00:00</td>\n",
       "      <td>2019-12-06 17:30:02+00:00</td>\n",
       "      <td>Closed</td>\n",
       "      <td>RequestIndy Mobile</td>\n",
       "      <td>4 days 00:00:16</td>\n",
       "    </tr>\n",
       "    <tr>\n",
       "      <th>8012</th>\n",
       "      <td>Abandoned Vehicle</td>\n",
       "      <td>Street/Alley (ABV)</td>\n",
       "      <td>338 N DREXEL AVE</td>\n",
       "      <td>CENTER</td>\n",
       "      <td>INDIANAPOLIS</td>\n",
       "      <td>46201</td>\n",
       "      <td>12.0</td>\n",
       "      <td>2019-12-02 17:41:20+00:00</td>\n",
       "      <td>2020-05-19 17:45:35+00:00</td>\n",
       "      <td>2019-12-06 17:44:59+00:00</td>\n",
       "      <td>Closed</td>\n",
       "      <td>RequestIndy Online</td>\n",
       "      <td>4 days 00:03:39</td>\n",
       "    </tr>\n",
       "    <tr>\n",
       "      <th>8017</th>\n",
       "      <td>Abandoned Vehicle</td>\n",
       "      <td>Street/Alley (ABV)</td>\n",
       "      <td>676 S MITCHNER AVE</td>\n",
       "      <td>WARREN</td>\n",
       "      <td>INDIANAPOLIS</td>\n",
       "      <td>46239</td>\n",
       "      <td>18.0</td>\n",
       "      <td>2019-12-02 01:49:28+00:00</td>\n",
       "      <td>2020-05-19 17:45:35+00:00</td>\n",
       "      <td>2019-12-06 02:00:00+00:00</td>\n",
       "      <td>Closed</td>\n",
       "      <td>RequestIndy Mobile</td>\n",
       "      <td>4 days 00:10:32</td>\n",
       "    </tr>\n",
       "    <tr>\n",
       "      <th>8018</th>\n",
       "      <td>Trash</td>\n",
       "      <td>96 Gal Cart - Stolen</td>\n",
       "      <td>436 S GRAY ST</td>\n",
       "      <td>CENTER</td>\n",
       "      <td>INDIANAPOLIS</td>\n",
       "      <td>46201</td>\n",
       "      <td>12.0</td>\n",
       "      <td>2019-12-02 17:11:44+00:00</td>\n",
       "      <td>2019-12-04 13:57:24+00:00</td>\n",
       "      <td>2019-12-04 13:57:24+00:00</td>\n",
       "      <td>Closed</td>\n",
       "      <td>Phone</td>\n",
       "      <td>1 days 20:45:40</td>\n",
       "    </tr>\n",
       "  </tbody>\n",
       "</table>\n",
       "</div>"
      ],
      "text/plain": [
       "                keyword           subcategory     incident_address township  \\\n",
       "8010             Animal                  Dead      903 N OXFORD ST   CENTER   \n",
       "8011  Abandoned Vehicle    Street/Alley (ABV)  11506 LULLSTREAM DR   WARREN   \n",
       "8012  Abandoned Vehicle    Street/Alley (ABV)     338 N DREXEL AVE   CENTER   \n",
       "8017  Abandoned Vehicle    Street/Alley (ABV)   676 S MITCHNER AVE   WARREN   \n",
       "8018              Trash  96 Gal Cart - Stolen        436 S GRAY ST   CENTER   \n",
       "\n",
       "              city    zip  council_district                   created  \\\n",
       "8010  INDIANAPOLIS  46201              17.0 2019-12-02 17:20:19+00:00   \n",
       "8011  INDIANAPOLIS  46229              14.0 2019-12-02 17:29:46+00:00   \n",
       "8012  INDIANAPOLIS  46201              12.0 2019-12-02 17:41:20+00:00   \n",
       "8017  INDIANAPOLIS  46239              18.0 2019-12-02 01:49:28+00:00   \n",
       "8018  INDIANAPOLIS  46201              12.0 2019-12-02 17:11:44+00:00   \n",
       "\n",
       "                 last_modified                    closed  status  \\\n",
       "8010 2019-12-03 21:32:36+00:00 2019-12-03 21:32:36+00:00  Closed   \n",
       "8011 2019-12-06 17:30:02+00:00 2019-12-06 17:30:02+00:00  Closed   \n",
       "8012 2020-05-19 17:45:35+00:00 2019-12-06 17:44:59+00:00  Closed   \n",
       "8017 2020-05-19 17:45:35+00:00 2019-12-06 02:00:00+00:00  Closed   \n",
       "8018 2019-12-04 13:57:24+00:00 2019-12-04 13:57:24+00:00  Closed   \n",
       "\n",
       "                  origin      close_time  \n",
       "8010               Phone 1 days 04:12:17  \n",
       "8011  RequestIndy Mobile 4 days 00:00:16  \n",
       "8012  RequestIndy Online 4 days 00:03:39  \n",
       "8017  RequestIndy Mobile 4 days 00:10:32  \n",
       "8018               Phone 1 days 20:45:40  "
      ]
     },
     "execution_count": 4,
     "metadata": {},
     "output_type": "execute_result"
    }
   ],
   "source": [
    "# separating the 2010 datamac\n",
    "mac10 = mac[mac['created'] < '2020']\n",
    "\n",
    "mac10.head()"
   ]
  },
  {
   "cell_type": "markdown",
   "metadata": {},
   "source": [
    "## Acessing API Census Geocoding for onelineaddress"
   ]
  },
  {
   "cell_type": "code",
   "execution_count": 3,
   "metadata": {},
   "outputs": [
    {
     "name": "stdout",
     "output_type": "stream",
     "text": [
      "200\n",
      "{\n",
      "    \"result\": {\n",
      "        \"addressMatches\": [\n",
      "            {\n",
      "                \"addressComponents\": {\n",
      "                    \"city\": \"INDIANAPOLIS\",\n",
      "                    \"fromAddress\": \"300\",\n",
      "                    \"preDirection\": \"N\",\n",
      "                    \"preQualifier\": \"\",\n",
      "                    \"preType\": \"\",\n",
      "                    \"state\": \"IN\",\n",
      "                    \"streetName\": \"DREXEL\",\n",
      "                    \"suffixDirection\": \"\",\n",
      "                    \"suffixQualifier\": \"\",\n",
      "                    \"suffixType\": \"AVE\",\n",
      "                    \"toAddress\": \"498\",\n",
      "                    \"zip\": \"46201\"\n",
      "                },\n",
      "                \"coordinates\": {\n",
      "                    \"x\": -86.09142059738242,\n",
      "                    \"y\": 39.77338120375392\n",
      "                },\n",
      "                \"geographies\": {\n",
      "                    \"Census Blocks\": [\n",
      "                        {\n",
      "                            \"ACT\": \"C3\",\n",
      "                            \"AREALAND\": 29748,\n",
      "                            \"AREAWATER\": 0,\n",
      "                            \"BASENAME\": \"3002\",\n",
      "                            \"BLKGRP\": \"3\",\n",
      "                            \"BLOCK\": \"3002\",\n",
      "                            \"CENTLAT\": \"+39.7734927\",\n",
      "                            \"CENTLON\": \"-086.0920134\",\n",
      "                            \"COUNTY\": \"097\",\n",
      "                            \"FUNCSTAT\": \"S\",\n",
      "                            \"GEOID\": \"180973554003002\",\n",
      "                            \"HU100\": 34,\n",
      "                            \"INTPTLAT\": \"+39.7734927\",\n",
      "                            \"INTPTLON\": \"-086.0920134\",\n",
      "                            \"LSADC\": \"BK\",\n",
      "                            \"LWBLKTYP\": \"L\",\n",
      "                            \"MTFCC\": \"G5040\",\n",
      "                            \"NAME\": \"Block 3002\",\n",
      "                            \"OBJECTID\": 7513635,\n",
      "                            \"OID\": 210403978388515,\n",
      "                            \"POP100\": 77,\n",
      "                            \"STATE\": \"18\",\n",
      "                            \"SUFFIX\": \"\",\n",
      "                            \"TABBLKSUFX2\": \"\",\n",
      "                            \"TRACT\": \"355400\",\n",
      "                            \"UR\": \"U\",\n",
      "                            \"VINTAGE\": \"40\"\n",
      "                        }\n",
      "                    ]\n",
      "                },\n",
      "                \"matchedAddress\": \"388 N DREXEL AVE, INDIANAPOLIS, IN, 46201\",\n",
      "                \"tigerLine\": {\n",
      "                    \"side\": \"L\",\n",
      "                    \"tigerLineId\": \"108001141\"\n",
      "                }\n",
      "            }\n",
      "        ],\n",
      "        \"input\": {\n",
      "            \"address\": {\n",
      "                \"address\": \"388 North Drexel Ave, Indianapolis, IN, 46201\"\n",
      "            },\n",
      "            \"benchmark\": {\n",
      "                \"benchmarkDescription\": \"Public Address Ranges - Current Benchmark\",\n",
      "                \"benchmarkName\": \"Public_AR_Current\",\n",
      "                \"id\": \"4\",\n",
      "                \"isDefault\": true\n",
      "            },\n",
      "            \"vintage\": {\n",
      "                \"id\": \"410\",\n",
      "                \"isDefault\": false,\n",
      "                \"vintageDescription\": \"Census2010 Vintage - Current Benchmark\",\n",
      "                \"vintageName\": \"Census2010_Current\"\n",
      "            }\n",
      "        }\n",
      "    }\n",
      "}\n"
     ]
    }
   ],
   "source": [
    "# attempting to access the census bureau api\n",
    "\n",
    "input = {\n",
    "    'benchmark': 'Public_AR_Current',\n",
    "    'vintage': 'Census2010_Current',    \n",
    "    'address': '388 North Drexel Ave, Indianapolis, IN, 46201',\n",
    "    'format': 'json',\n",
    "    'layers': 'Census Blocks'\n",
    "    }\n",
    "\n",
    "# setting \n",
    "returntype = 'geographies'\n",
    "searchtype = 'onelineaddress'\n",
    "\n",
    "url = f'https://geocoding.geo.census.gov/geocoder/{returntype}/{searchtype}'\n",
    "\n",
    "r = requests.post(url, params=input)\n",
    "\n",
    "print(r.status_code)\n",
    "\n",
    "import json\n",
    "\n",
    "def jprint(obj):\n",
    "    # create a formatted string of the Python JSON object\n",
    "    text = json.dumps(obj, sort_keys=True, indent=4)\n",
    "    print(text)\n",
    "\n",
    "jprint(r.json())"
   ]
  },
  {
   "cell_type": "code",
   "execution_count": 83,
   "metadata": {},
   "outputs": [
    {
     "data": {
      "text/plain": [
       "'180973554003002'"
      ]
     },
     "execution_count": 83,
     "metadata": {},
     "output_type": "execute_result"
    }
   ],
   "source": [
    "# getting only the geoid\n",
    "r.json()['result']['addressMatches'][0]['geographies']['Census Blocks'][0]['GEOID']"
   ]
  },
  {
   "cell_type": "code",
   "execution_count": 6,
   "metadata": {},
   "outputs": [
    {
     "data": {
      "text/html": [
       "<div>\n",
       "<style scoped>\n",
       "    .dataframe tbody tr th:only-of-type {\n",
       "        vertical-align: middle;\n",
       "    }\n",
       "\n",
       "    .dataframe tbody tr th {\n",
       "        vertical-align: top;\n",
       "    }\n",
       "\n",
       "    .dataframe thead th {\n",
       "        text-align: right;\n",
       "    }\n",
       "</style>\n",
       "<table border=\"1\" class=\"dataframe\">\n",
       "  <thead>\n",
       "    <tr style=\"text-align: right;\">\n",
       "      <th></th>\n",
       "      <th>geoid10</th>\n",
       "      <th>countyfp10</th>\n",
       "      <th>blockce10</th>\n",
       "      <th>tractce10</th>\n",
       "      <th>blockname10</th>\n",
       "      <th>aland10</th>\n",
       "      <th>awater10</th>\n",
       "      <th>shape_length</th>\n",
       "      <th>shape_area</th>\n",
       "    </tr>\n",
       "  </thead>\n",
       "  <tbody>\n",
       "    <tr>\n",
       "      <th>202270</th>\n",
       "      <td>180973554003002</td>\n",
       "      <td>97</td>\n",
       "      <td>3002</td>\n",
       "      <td>355400</td>\n",
       "      <td>3002</td>\n",
       "      <td>29748</td>\n",
       "      <td>0</td>\n",
       "      <td>786.575252</td>\n",
       "      <td>29728.855966</td>\n",
       "    </tr>\n",
       "  </tbody>\n",
       "</table>\n",
       "</div>"
      ],
      "text/plain": [
       "                geoid10  countyfp10  blockce10  tractce10  blockname10  \\\n",
       "202270  180973554003002          97       3002     355400         3002   \n",
       "\n",
       "        aland10  awater10  shape_length    shape_area  \n",
       "202270    29748         0    786.575252  29728.855966  "
      ]
     },
     "execution_count": 6,
     "metadata": {},
     "output_type": "execute_result"
    }
   ],
   "source": [
    "# need to use integers to find the correct location\n",
    "gdf10[gdf10['blockce10'] == 3002]\n",
    "\n",
    "# trying for the geoid now\n",
    "gdf10[gdf10['geoid10'] == 180973554003002]\n",
    "\n",
    "# its a match\n"
   ]
  },
  {
   "cell_type": "markdown",
   "metadata": {},
   "source": [
    "## Getting Census Bureau batch addresses\n",
    "TODO: keep the state fip code and change it to the abbreviation for indiana in the prepare file for the mac census data"
   ]
  },
  {
   "cell_type": "code",
   "execution_count": 5,
   "metadata": {},
   "outputs": [
    {
     "name": "stderr",
     "output_type": "stream",
     "text": [
      "/var/folders/fj/7fbysvvn7956npcj9d4mxfxw0000gn/T/ipykernel_2222/3223090854.py:5: SettingWithCopyWarning: \n",
      "A value is trying to be set on a copy of a slice from a DataFrame.\n",
      "Try using .loc[row_indexer,col_indexer] = value instead\n",
      "\n",
      "See the caveats in the documentation: https://pandas.pydata.org/pandas-docs/stable/user_guide/indexing.html#returning-a-view-versus-a-copy\n",
      "  mac10['state'] = 'IN'\n"
     ]
    }
   ],
   "source": [
    "# getting number of unique incident addresses\n",
    "mac10.incident_address.nunique() / 10_000\n",
    "\n",
    "# we will need 26 different csv's to get the data, I will try to make this as programmatic as possible\n",
    "mac10['state'] = 'IN'\n",
    "\n",
    "unique_address_mac_10 = mac10[['incident_address', 'city','state','zip']].drop_duplicates()"
   ]
  },
  {
   "cell_type": "code",
   "execution_count": 10,
   "metadata": {},
   "outputs": [],
   "source": [
    "# start with one batch, then make it programmatic\n",
    "# separate the first 10,000 and save it as a csv with a unique name\n",
    "\n",
    "batch_1 = unique_address_mac_10.iloc[:9999]\n",
    "\n",
    "file_path = './data/address_batch_1.csv'\n",
    "\n",
    "batch_1.to_csv(file_path, header=False)"
   ]
  },
  {
   "cell_type": "code",
   "execution_count": 18,
   "metadata": {},
   "outputs": [
    {
     "data": {
      "text/html": [
       "<div>\n",
       "<style scoped>\n",
       "    .dataframe tbody tr th:only-of-type {\n",
       "        vertical-align: middle;\n",
       "    }\n",
       "\n",
       "    .dataframe tbody tr th {\n",
       "        vertical-align: top;\n",
       "    }\n",
       "\n",
       "    .dataframe thead th {\n",
       "        text-align: right;\n",
       "    }\n",
       "</style>\n",
       "<table border=\"1\" class=\"dataframe\">\n",
       "  <thead>\n",
       "    <tr style=\"text-align: right;\">\n",
       "      <th></th>\n",
       "      <th>incident_address</th>\n",
       "      <th>city</th>\n",
       "      <th>state</th>\n",
       "      <th>zip</th>\n",
       "    </tr>\n",
       "  </thead>\n",
       "  <tbody>\n",
       "    <tr>\n",
       "      <th>8010</th>\n",
       "      <td>903 N OXFORD ST</td>\n",
       "      <td>INDIANAPOLIS</td>\n",
       "      <td>IN</td>\n",
       "      <td>46201</td>\n",
       "    </tr>\n",
       "    <tr>\n",
       "      <th>8011</th>\n",
       "      <td>11506 LULLSTREAM DR</td>\n",
       "      <td>INDIANAPOLIS</td>\n",
       "      <td>IN</td>\n",
       "      <td>46229</td>\n",
       "    </tr>\n",
       "    <tr>\n",
       "      <th>8012</th>\n",
       "      <td>338 N DREXEL AVE</td>\n",
       "      <td>INDIANAPOLIS</td>\n",
       "      <td>IN</td>\n",
       "      <td>46201</td>\n",
       "    </tr>\n",
       "    <tr>\n",
       "      <th>8017</th>\n",
       "      <td>676 S MITCHNER AVE</td>\n",
       "      <td>INDIANAPOLIS</td>\n",
       "      <td>IN</td>\n",
       "      <td>46239</td>\n",
       "    </tr>\n",
       "    <tr>\n",
       "      <th>8018</th>\n",
       "      <td>436 S GRAY ST</td>\n",
       "      <td>INDIANAPOLIS</td>\n",
       "      <td>IN</td>\n",
       "      <td>46201</td>\n",
       "    </tr>\n",
       "    <tr>\n",
       "      <th>...</th>\n",
       "      <td>...</td>\n",
       "      <td>...</td>\n",
       "      <td>...</td>\n",
       "      <td>...</td>\n",
       "    </tr>\n",
       "    <tr>\n",
       "      <th>62582</th>\n",
       "      <td>1230 W 31ST ST</td>\n",
       "      <td>INDIANAPOLIS</td>\n",
       "      <td>IN</td>\n",
       "      <td>46208</td>\n",
       "    </tr>\n",
       "    <tr>\n",
       "      <th>62583</th>\n",
       "      <td>937 N ARLINGTON AVE</td>\n",
       "      <td>INDIANAPOLIS</td>\n",
       "      <td>IN</td>\n",
       "      <td>46219</td>\n",
       "    </tr>\n",
       "    <tr>\n",
       "      <th>62584</th>\n",
       "      <td>1722 N EMERSON AVE</td>\n",
       "      <td>INDIANAPOLIS</td>\n",
       "      <td>IN</td>\n",
       "      <td>46218</td>\n",
       "    </tr>\n",
       "    <tr>\n",
       "      <th>62585</th>\n",
       "      <td>4026 CORLISS ST</td>\n",
       "      <td>INDIANAPOLIS</td>\n",
       "      <td>IN</td>\n",
       "      <td>46217</td>\n",
       "    </tr>\n",
       "    <tr>\n",
       "      <th>62586</th>\n",
       "      <td>4451 OLD ALLISONVILLE RD</td>\n",
       "      <td>INDIANAPOLIS</td>\n",
       "      <td>IN</td>\n",
       "      <td>46205</td>\n",
       "    </tr>\n",
       "  </tbody>\n",
       "</table>\n",
       "<p>9999 rows × 4 columns</p>\n",
       "</div>"
      ],
      "text/plain": [
       "               incident_address          city state    zip\n",
       "8010            903 N OXFORD ST  INDIANAPOLIS    IN  46201\n",
       "8011        11506 LULLSTREAM DR  INDIANAPOLIS    IN  46229\n",
       "8012           338 N DREXEL AVE  INDIANAPOLIS    IN  46201\n",
       "8017         676 S MITCHNER AVE  INDIANAPOLIS    IN  46239\n",
       "8018              436 S GRAY ST  INDIANAPOLIS    IN  46201\n",
       "...                         ...           ...   ...    ...\n",
       "62582            1230 W 31ST ST  INDIANAPOLIS    IN  46208\n",
       "62583       937 N ARLINGTON AVE  INDIANAPOLIS    IN  46219\n",
       "62584        1722 N EMERSON AVE  INDIANAPOLIS    IN  46218\n",
       "62585           4026 CORLISS ST  INDIANAPOLIS    IN  46217\n",
       "62586  4451 OLD ALLISONVILLE RD  INDIANAPOLIS    IN  46205\n",
       "\n",
       "[9999 rows x 4 columns]"
      ]
     },
     "execution_count": 18,
     "metadata": {},
     "output_type": "execute_result"
    }
   ],
   "source": [
    "col_names = list(batch_1.columns)\n",
    "pd.read_csv(file_path, names=col_names)"
   ]
  },
  {
   "cell_type": "markdown",
   "metadata": {},
   "source": [
    "## Accessing the API for batch addresses"
   ]
  },
  {
   "cell_type": "code",
   "execution_count": 19,
   "metadata": {},
   "outputs": [],
   "source": [
    "# post the request to the api\n",
    "\n",
    "input = {\n",
    "    'benchmark': 'Public_AR_Current',\n",
    "    'vintage': 'Census2010_Current',\n",
    "    'addressFile': file_path\n",
    "    }\n",
    "\n",
    "# setting \n",
    "returntype = 'geographies'\n",
    "searchtype = 'addressbatch'\n",
    "\n",
    "url = f'https://geocoding.geo.census.gov/geocoder/{returntype}/{searchtype}'\n",
    "\n",
    "r = requests.post(url, params=input)"
   ]
  },
  {
   "cell_type": "code",
   "execution_count": 20,
   "metadata": {},
   "outputs": [
    {
     "data": {
      "text/plain": [
       "'<!DOCTYPE html>\\r\\n<html lang=\"en\">\\r\\n<head>\\r\\n  <title>Census Geocoder</title>\\r\\n  <meta charset=\"utf-8\">\\r\\n  <meta name=\"viewport\" content=\"width=device-width, initial-scale=1\">\\r\\n  <link rel=\"icon\" sizes=\"192x192\" href=\"https://www.census.gov/etc.clientlibs/census/clientlibs/common-site/resources/icons/android-chrome-192x192.png\">\\r\\n  <link rel=\"icon\" sizes=\"256x256\" href=\"https://www.census.gov/etc.clientlibs/census/clientlibs/common-site/resources/icons/android-chrome-256x256.png\">\\r\\n  <link rel=\"shortcut icon\" sizes=\"32x32\" href=\"https://www.census.gov/etc.clientlibs/census/clientlibs/common-site/resources/icons/favicon.ico\">\\r\\n  <link rel=\"apple-touch-icon\" sizes=\"180x180\" href=\"https://www.census.gov/etc.clientlibs/census/clientlibs/common-site/resources/icons/apple-touch-icon-180x180.png\"> \\r\\n  <link rel=\"stylesheet\" href=\"/geocoder/static/css/bootstrap.min.css\">\\r\\n  <link rel=\"stylesheet\" href=\"/geocoder/static/css/main.css\">\\r\\n  <script src=\"/geocoder/static/js/bootstrap.min.js\"></script>\\r\\n  <script type=\"text/javascript\" src=\"/geocoder/static/js/jquery.js\"></script>\\r\\n  \\r\\n\\r\\n</head>\\r\\n<body>\\r\\n\\t<!-- Census Header -->\\r\\n\\t<div>\\n\\n    <meta charset=\"utf-8\" />\\n    <script src=\"https://www.census.gov/main/uswds/uswds-2.12.0/js/uswds-init.min.js\"></script>\\n    <script src=\"https://assets.adobedtm.com/7d6e749d4118/1f2b049df95b/launch-ENdc1ca6bab15e46a5b880a2c3f9d462ab.min.js\"></script>  \\n  \\t<link rel=\"stylesheet\" href=\"https://www.census.gov/main/css/all_header_styles.css\" />\\n\\n    <script src=\"https://www.census.gov/main/uswds/uswds-2.12.0/js/uswds.min.js\"></script>    \\n    <section class=\"usa-banner\" aria-label=\"Official government website\">\\n        <div class=\"usa-accordion\">\\n          <header class=\"usa-banner__header\">\\n            <div class=\"usa-banner__inner\">\\n              <div class=\"grid-col-auto\">\\n                <img\\n                  class=\"usa-banner__header-flag\"\\n                  src=\"https://www.census.gov/main/uswds/uswds-2.12.0/img/us_flag_small.png\"\\n                  alt=\"U.S. flag\"\\n                />\\n              </div>\\n              <div class=\"grid-col-fill tablet:grid-col-auto\">\\n                <p class=\"usa-banner__header-text\">\\n                  An official website of the United States government\\n                </p>             \\n                </div>\\n              </div>\\n            </div>\\n         <!-- </div>\\n        </div>-->\\n      </section>\\n    <style id=\"antiClickjack\">\\n        body {\\n            display: none !important\\n        }\\n    </style>\\n    <script type=\"text/javascript\" src=\"https://www.census.gov/main/javascript/clickjack.js\"></script>\\n    <script src=\"https://www.census.gov/main/responsive-header/jquery/jquery.js\"\\n        class=\"cb-main-support global-file\"></script>\\n    <script src=\"https://www.census.gov/main/responsive-header/jquery/jquery-ui.js\"\\n        class=\"cb-main-support global-file\"></script>\\n    \\n    <!-- Check for jquery conflict -->\\n    <script type=\"text/javascript\">\\n    \\n    // THIS BLOCK OF CODE IS USED TO DETERMINE WHAT ADOBE LAUNCH ENVIRONMENT SHOULD RECIEVE METRICS DATA\\n    // \\t$.ajax({\\n    // \\t\\ttype : \\'get\\',\\n    // \\t\\turl : \\'/main/app-config/header/adobe-launch.txt\\',\\t\\n    // \\t\\tdataType: \\'text\\',            \\t\\n    // \\t\\tsuccess : function(data){\\t\\t \\t\\t\\n    // \\t                var adobeLaunchScript = document.createElement(\"script\");\\n    // \\t                adobeLaunchScript.setAttribute(\"src\",data);\\n    // \\t                document.head.appendChild(adobeLaunchScript);\\n    // \\t            },\\n    // \\t    error : function(xhr, errorText, errorMessage){\\n    // \\t                console.log(\\'adobe-launch URL recognition failed: \\' + errorText);\\n    // \\t            }\\n    // \\t});\\n    \\n        $acn = jQuery.noConflict();\\n        if (typeof jQuery === \\'undefined\\' || typeof $ === \\'undefined\\') {\\n            jQuery = $acn;\\n            $ = $acn;\\n        }\\n        $(function () {\\n            $(\\'.cb-header-skip-nav\\').click(function () {\\n                $(\\'#cb-after-header-anchor\\').focus();\\n            });\\n        });\\n    </script>\\n    \\n    <script src=\"https://www.census.gov/main/responsive-header/bootstrap-custom/js/bootstrap.js\"\\n        class=\"cb-main-support global-file\"></script>\\n    <script src=\"https://www.census.gov/main/responsive-header/js/typeahead.js\"\\n        class=\"cb-main-support global-file\"></script>\\n    \\n    \\n    <style type=\"text/css\">\\n        header.hdr-primary,\\n        header.hdr-primary>nav {\\n            display: flex !important;\\n            align-items: center !important;\\n            margin: 0 !important;\\n            padding: 0 !important;\\n            height: 64px !important;\\n            background-color: #ffffff !important;\\n           /* border-color: #112e51 !important;*/\\n        }\\n    \\n        header.hdr-primary>nav>div {\\n            box-sizing: border-box !important;\\n            height: 36.62px !important;\\n            font-size: 20px !important;\\n            font-weight: 500 !important;\\n            letter-spacing: 0.02em !important;\\n            line-height: 30px !important;\\n            white-space: nowrap !important;\\n            vertical-align: baseline !important;\\n            padding: 0 0 0 16px !important;\\n            margin: 0 !important;\\n            min-width: 150px !important;\\n        }\\n    \\n        header.hdr-primary>nav>div>a,\\n        header.hdr-primary>nav>div>a>img {\\n            padding: 0 !important;\\n            margin: 0 !important;\\n            border-style: none !important;\\n            background: transparent !important;\\n            text-decoration: none !important;\\n        }\\n    \\n        header.hdr-primary>nav>div>a {\\n            box-sizing: border-box !important;\\n            cursor: pointer !important;\\n            text-decoration: none !important;\\n        }\\n    \\n        header.hdr-primary>nav>div>a>img {\\n            width: 86px !important;\\n            height: 33.62px !important;\\n            margin-left: 15px !important;\\n        }\\n        hr.blue-line {\\n       /* border-top-width: 2px;*/\\n       /* border-color: #d0dce1;*/\\n        margin: 0px;\\n        border-bottom: #d0dce1 1px solid;\\n        \\n        }        \\n    </style>\\n    <button class=\"cb-header-skip-nav sr-only sr-only-focusable\">Skip to main content</button>\\n    <header class=\"hdr-primary\">\\n        <nav>\\n            <div><a href=\"https://www.census.gov\" id=\"census-home-link\"><img\\n                        src=\"https://www.census.gov/main/img/USCENSUS_IDENTITY_SOLO_BLACK_1.5in_R_no_padding.svg\"\\n                        alt=\"United States Census Bureau\" title=\"U.S. Census Bureau\"></a></div>\\n        </nav>\\n    </header>\\n    <hr class=\"blue-line\">\\n    <a class=\"sr-only\" tabindex=\"-1\" id=\"cb-after-header-anchor\">end of header</a>\\n\\n\\r\\n\\t<!-- End Census Header -->\\t\\r\\n\\t<header>\\r\\n\\t<nav class=\"navbar navbar-expand-geocoder navbar-dark\" style=\"background-color: rgb(12,59,114);\">\\r\\n\\t\\t<div class=\"container-fluid justify-content-center\">\\r\\n\\t\\t<!-- <div class=\".container-lg\">-->\\r\\n\\t\\t    <button class=\"navbar-toggler me-auto\" type=\"button\" data-bs-toggle=\"collapse\" data-bs-target=\"#navbarSupportedContent\" aria-controls=\"#navbarSupportedContent\" aria-expanded=\"false\" aria-label=\"Toggle navigation\">\\r\\n\\t\\t\\t\\t<span class=\"navbar-toggler-icon\"></span>\\r\\n\\t\\t    </button>\\r\\n\\t\\t    <div class=\"collapse navbar-collapse justify-content-center\" id=\"navbarSupportedContent\">\\r\\n\\t\\t\\t\\t<ul class=\"nav nav-tabs\" id=\"myTab\" role=\"tablist\">\\r\\n\\t\\t\\t\\t\\t<li class=\"nav-item\">\\r\\n\\t\\t\\t          \\t<a class=\"nav-link active\" href=\"/geocoder/\">Census Geocoder</a>\\r\\n\\t\\t\\t        </li>\\r\\n\\t\\t\\t\\t\\t\\r\\n\\t\\t\\t\\t\\t<li class=\"nav-item dropdown\">\\r\\n\\t\\t\\t\\t\\t\\t<a class=\"nav-link dropdown-toggle locationsTab\" href=\"#\" id=\"navbarDropdown\" role=\"button\" data-bs-toggle=\"dropdown\" aria-expanded=\"false\">Find Locations</a>\\r\\n\\t\\t\\t          \\t<ul class=\"dropdown-menu\" aria-labelledby=\"navbarDropdown\">\\r\\n\\t\\t\\t            \\t<li><a class=\"dropdown-item\" id=\"locOneLineTab\" href=\"/geocoder/locations/onelineaddress?form\">One Line Address Processing</a></li>\\r\\n\\t\\t\\t\\t  \\t\\t\\t<li><hr class=\"dropdown-divider\"></li>\\r\\n\\t\\t\\t            \\t<li><a class=\"dropdown-item\" id=\"locParsedTab\" href=\"/geocoder/locations/address?form\">Parsed Address Processing</a></li>\\r\\n\\t\\t\\t            \\t<li><hr class=\"dropdown-divider\"></li>\\r\\n\\t\\t\\t            \\t<li><a class=\"dropdown-item\" id=\"locBatchTab\" href=\"/geocoder/locations/addressbatch?form\">Batch Address Processing</a></li>\\r\\n\\t\\t\\t            \\t\\r\\n\\t\\t\\t            \\t\\r\\n\\t\\t\\t          \\t</ul>\\r\\n\\t\\t\\t        </li>\\r\\n\\t\\t\\t        \\r\\n\\t\\t\\t        <li class=\"nav-item dropdown\">\\r\\n\\t\\t\\t\\t\\t\\t<a class=\"nav-link dropdown-toggle geographiesTab\" href=\"#\" id=\"navbarDropdown\" role=\"button\" data-bs-toggle=\"dropdown\" aria-expanded=\"false\">Find Geographies</a>\\r\\n\\t\\t\\t          \\t<ul class=\"dropdown-menu\" aria-labelledby=\"navbarDropdown\">\\r\\n\\t\\t\\t            \\t<li><a class=\"dropdown-item\" id=\"geoOneLineTab\" href=\"/geocoder/geographies/onelineaddress?form\">One Line Address Processing</a></li>\\r\\n\\t\\t\\t            \\t<li><hr class=\"dropdown-divider\"></li>\\r\\n\\t\\t\\t            \\t<li><a class=\"dropdown-item\" id=\"geoParsedTab\" href=\"/geocoder/geographies/address?form\">Parsed Address Processing</a></li>\\r\\n\\t\\t\\t            \\t<li><hr class=\"dropdown-divider\"></li>\\r\\n\\t\\t\\t            \\t<li><a class=\"dropdown-item\" id=\"geoBatchTab\" href=\"/geocoder/geographies/addressbatch?form\">Batch Address Processing</a></li>\\r\\n\\t\\t\\t            \\t<li><hr class=\"dropdown-divider\"></li>\\r\\n\\t\\t\\t            \\t<li><a class=\"dropdown-item\" id=\"geoCoordsTab\" href=\"/geocoder/geographies/coordinates?form\">Geographic Coordinates</a></li>\\r\\n\\t\\t\\t          \\t</ul>\\r\\n\\t\\t\\t        </li>\\r\\n\\t\\t\\t        \\r\\n\\t\\t\\t        <li class=\"nav-item\">\\r\\n\\t\\t\\t          \\t<a class=\"nav-link\" target=\"_blank\" href=\"https://www.census.gov/programs-surveys/geography/technical-documentation/complete-technical-documentation/census-geocoder.html\">Detailed Information and FAQs</a>\\r\\n\\t\\t\\t        </li>\\r\\n\\t\\t\\t        \\r\\n\\t\\t\\t        <li class=\"nav-item\">\\r\\n\\t\\t\\t          \\t<a class=\"nav-link contactUsTab\" href=\"/geocoder/contact-us\">Contact Us</a>\\r\\n\\t\\t\\t        </li>\\r\\n\\t\\t\\t        \\r\\n\\t\\t      \\t</ul>\\r\\n\\t\\t\\t</div>\\r\\n\\t\\t</div>\\r\\n\\t</nav>\\r\\n</header>\\r\\n\\t<!-- Navigation Bar End -->\\r\\n\\t\\r\\n\\t<div class=\"container error\">\\r\\n\\t\\t<div class=\"row\">\\r\\n\\t\\t\\t<div class=\"d-flex col-lg-12 justify-content-center\">\\r\\n\\t\\t\\t\\t<div class=\"tab-content\" id=\"myTabContent\">\\r\\n\\t\\t\\t\\t\\t<div class=\"tab-pane fade show active\" id=\"landingPage\" role=\"tabpanel\" aria-labelledby=\"landingPage-tab\">\\r\\n\\t\\t\\t\\t\\t\\t<h2>Internal Error</h2>\\r\\n\\t\\t\\t\\t\\t\\t<p style=\"padding:10px;\">Sorry, we encountered an internal error.</p>\\r\\n\\t\\t\\t\\t\\t</div>\\r\\n\\t\\t\\t\\t</div>\\r\\n\\t\\t\\t</div>\\r\\n\\t\\t</div>\\r\\n\\t</div>\\r\\n\\r\\n\\t<!-- Census Footer -->\\r\\n\\t<div><html>\\r\\n<head>\\r\\n<meta content=\"width=device-width, initial-scale=1\" name=\"viewport\" />\\r\\n<link rel=\"stylesheet\" href=\"https://www.census.gov/main/css/font-awesome-4.7.0/css/font-awesome.min.css\">\\r\\n<link rel=\"stylesheet\" type=\"text/css\" href=\"https://www.census.gov/main/css/new_footer.css\">\\r\\n\\r\\n<style>\\r\\n\\r\\n@media only screen and (max-width: 700px) {\\r\\n    .val {\\r\\n    width: 100%;\\r\\n    margin: auto 0;\\r\\n    \\r\\n}\\r\\n\\r\\na{\\r\\nfont-size: small;\\r\\n}\\r\\n\\r\\n.foot_bottom_links{\\r\\nwidth: 100%;\\r\\n\\r\\ntext-align:left;\\r\\n}\\r\\n\\r\\n}\\r\\n\\r\\nhr.foot-line {\\r\\nmargin-bottom: 10px;\\r\\n}\\r\\n\\r\\n\\r\\n\\r\\n</style>\\r\\n\\r\\n</head>\\r\\n        \\r\\n        <footer class=\"footer container-fluid\">\\r\\n   <div class=\"row\">\\r\\n  \\r\\n    <div class=\"grid_footer_links cf\">\\r\\n   \\r\\n\\r\\n        <div class=\"foot_bottom\">\\r\\n            <div class=\"foot_bottom_links\">\\r\\n            \\r\\n                <div class=\"footerbottom\">\\r\\n                \\r\\n                 \\r\\n                <div class=\"val\">\\r\\n\\t\\t\\t\\t\\t<a class=\"foot_bottom_socialLinks\" href=\"https://www.census.gov/about/contact-us/social_media.html\">CONNECT WITH US</a>\\r\\n                    <a class=\"social-icon\" href=\"https://www.facebook.com/uscensusbureau\"><i class=\"fa fa-facebook\"></i></a>\\r\\n                    <a class=\"social-icon\" href=\"https://twitter.com/uscensusbureau\"><i class=\"fa fa-twitter\"></i></a>\\r\\n                    <a class=\"social-icon\" href=\"https://www.linkedin.com/company/us-census-bureau\"><i class=\"fa fa-linkedin\"></i></a>\\r\\n                    <a class=\"social-icon\" href=\"https://www.youtube.com/user/uscensusbureau\"><i class=\"fa fa-youtube\"></i></a>\\r\\n                    <a class=\"social-icon\" href=\"https://www.instagram.com/uscensusbureau/\"><i class=\"fa fa-instagram\"></i></a>\\r\\n                    <!-- <i class=\"foot_bottom_socialLinks\" href=\"https://public.govdelivery.com/accounts/USCENSUS/subscriber/new\" target=\"_blank\"><img src=\"//www.census.gov/main/img/Mail_White.svg\" alt=\"Email Updates logo\" title=\"Email Updates\"/></i> -->\\r\\n</div>\\r\\n\\r\\n<div class=\"val\">\\r\\n                    <ul class=\"legal-menu\">\\r\\n                    <li><a href=\"https://www.census.gov/quality/\">Information Quality</a></li>\\r\\n                    <li><a href=\"https://www.census.gov/datalinkage/\">Data Linkage Infrastructure</a></li>\\r\\n                    <li><a href=\"https://www.census.gov/privacy/\">Data Protection and Privacy Policy</a></li>\\r\\n                    <li><a href=\"https://www.census.gov/about/policies/privacy/privacy-policy.html#accessibility\">Accessibility</a></li>      \\r\\n                    <li><a href=\"https://www.census.gov/foia/\">FOIA</a></li>\\r\\n                    <li><a href=\"https://www.oig.doc.gov/Pages/default.aspx\">Inspector General</a></li>\\r\\n                    <li><a href=\"https://www.commerce.gov/cr/reports-and-resources/no-fear-act\">No FEAR Act</a></li>\\r\\n                    <li><a href=\"https://www.commerce.gov/\">U.S. Department of Commerce</a></li>\\r\\n                    <li><a href=\"https://www.usa.gov/\">USA.gov</a></li>\\r\\n                        \\r\\n                    </ul>\\r\\n                   \\r\\n                   </div>\\r\\n                   <hr class=\"foot-line\">\\r\\n                   <p class=\"foot_bottom_tagline\">Measuring America\\'s People, Places, and Economy</p>\\r\\n                   </div> \\r\\n                </div> <!-- end class=footerbotom -->\\r\\n            </div> <!-- end class=foot_bottom_links -->\\r\\n        </div> <!-- end class=grid_footer_links -->\\r\\n    </div>\\r\\n</footer> <!-- end class=footer -->\\r\\n</html></div>\\r\\n\\t<!-- End Census Footer -->\\r\\n\\r\\n</body> \\r\\n\\r\\n\\t<script type=\"text/javascript\" src=\"/geocoder/static/js/main.js\"></script>\\r\\n\\r\\n</html>'"
      ]
     },
     "execution_count": 20,
     "metadata": {},
     "output_type": "execute_result"
    }
   ],
   "source": [
    "r.text"
   ]
  },
  {
   "cell_type": "code",
   "execution_count": null,
   "metadata": {},
   "outputs": [],
   "source": [
    "# make the output go to the data folder\n",
    "\n",
    "# add all unmatched addresses to a new df\n",
    "\n",
    "# open the file with the information and merge it to the mac 10 dataset using the addressess, cities, state, and zipcode as the joiing section, specifically wiht a left join"
   ]
  },
  {
   "cell_type": "markdown",
   "metadata": {},
   "source": [
    "## Using the [Census Bureua API tutorial](https://www.youtube.com/watch?v=nIdmmEfW3R0) from youtube\n"
   ]
  },
  {
   "cell_type": "code",
   "execution_count": 3,
   "metadata": {},
   "outputs": [],
   "source": [
    "import io\n",
    "import csv"
   ]
  },
  {
   "cell_type": "markdown",
   "metadata": {},
   "source": [
    "### trying with 10,000 addresses in the batch"
   ]
  },
  {
   "cell_type": "code",
   "execution_count": null,
   "metadata": {},
   "outputs": [],
   "source": [
    "# start with one batch, then make it programmatic\n",
    "# separate the first 10,000 and save it as a csv with a unique name\n",
    "\n",
    "batch_1 = unique_address_mac_10.iloc[:9999]\n",
    "\n",
    "file_path = './data/address_batch_1.csv'\n",
    "\n",
    "batch_1.to_csv(file_path, header=False)\n",
    "\n",
    "\n",
    "# setting url information\n",
    "returntype = 'geographies'\n",
    "searchtype = 'addressbatch'\n",
    "url = f'https://geocoding.geo.census.gov/geocoder/{returntype}/{searchtype}'\n",
    "\n",
    "# establishing the \n",
    "file_path = './data/address_batch_1.csv'\n",
    "files = {'addressFile': (file_path, open(file_path, 'rb'), 'text/csv')}\n",
    "\n",
    "\n",
    "payload = {'benchmark':'Public_AR_Current', 'vintage':'Census2010_Current'}\n",
    "\n",
    "s = requests.post(url, files=files, data=payload)\n",
    "\n",
    "# got a connectin timeout error, adjusting the file size"
   ]
  },
  {
   "cell_type": "markdown",
   "metadata": {},
   "source": [
    "### trying with 5,000 addresses in the batch"
   ]
  },
  {
   "cell_type": "code",
   "execution_count": null,
   "metadata": {},
   "outputs": [
    {
     "ename": "NameError",
     "evalue": "name 'unique_address_mac_10' is not defined",
     "output_type": "error",
     "traceback": [
      "\u001b[0;31m---------------------------------------------------------------------------\u001b[0m",
      "\u001b[0;31mNameError\u001b[0m                                 Traceback (most recent call last)",
      "Cell \u001b[0;32mIn[1], line 5\u001b[0m\n\u001b[1;32m      1\u001b[0m \u001b[39m# reducung the size of the csv saved to half and trying again\u001b[39;00m\n\u001b[1;32m      2\u001b[0m \u001b[39m# start with one batch, then make it programmatic\u001b[39;00m\n\u001b[1;32m      3\u001b[0m \u001b[39m# separate the first 5,000 and save it as a csv with a unique name\u001b[39;00m\n\u001b[0;32m----> 5\u001b[0m batch_1 \u001b[39m=\u001b[39m unique_address_mac_10\u001b[39m.\u001b[39miloc[:\u001b[39m2500\u001b[39m]\n\u001b[1;32m      7\u001b[0m file_path \u001b[39m=\u001b[39m \u001b[39m'\u001b[39m\u001b[39m./data/address_batch_1.csv\u001b[39m\u001b[39m'\u001b[39m\n\u001b[1;32m      9\u001b[0m batch_1\u001b[39m.\u001b[39mto_csv(file_path, header\u001b[39m=\u001b[39m\u001b[39mFalse\u001b[39;00m)\n",
      "\u001b[0;31mNameError\u001b[0m: name 'unique_address_mac_10' is not defined"
     ]
    }
   ],
   "source": [
    "# reducung the size of the csv saved to half and trying again\n",
    "# start with one batch, then make it programmatic\n",
    "# separate the first 5,000 and save it as a csv with a unique name\n",
    "\n",
    "batch_1 = unique_address_mac_10.iloc[:5000]\n",
    "\n",
    "file_path = './data/address_batch_1.csv'\n",
    "\n",
    "batch_1.to_csv(file_path, header=False)"
   ]
  },
  {
   "cell_type": "code",
   "execution_count": 49,
   "metadata": {},
   "outputs": [],
   "source": [
    "# setting url information\n",
    "returntype = 'geographies'\n",
    "searchtype = 'addressbatch'\n",
    "url = f'https://geocoding.geo.census.gov/geocoder/{returntype}/{searchtype}'\n",
    "\n",
    "# establishing the file path and opening it\n",
    "file_path = './data/address_batch_1.csv'\n",
    "files = {'addressFile': (file_path, open(file_path, 'rb'), 'text/csv')}\n",
    "\n",
    "# identifying the data type to pull\n",
    "payload = {'benchmark':'Public_AR_Current', 'vintage':'Census2010_Current'}\n",
    "\n",
    "# post the requests\n",
    "s = requests.get(url, files=files, data=payload)\n",
    "\n",
    "# another connection timeout"
   ]
  },
  {
   "cell_type": "markdown",
   "metadata": {},
   "source": [
    "### trying with 3750"
   ]
  },
  {
   "cell_type": "code",
   "execution_count": 46,
   "metadata": {},
   "outputs": [
    {
     "data": {
      "text/plain": [
       "requests.models.Response"
      ]
     },
     "execution_count": 46,
     "metadata": {},
     "output_type": "execute_result"
    }
   ],
   "source": [
    "# reducung the size of the csv saved to half and trying again\n",
    "# start with one batch, then make it programmatic\n",
    "# separate the first 3750 and save it as a csv with a unique name\n",
    "\n",
    "batch_1 = unique_address_mac_10.iloc[:3750]\n",
    "\n",
    "file_path = './data/address_batch_1.csv'\n",
    "\n",
    "batch_1.to_csv(file_path, header=False)"
   ]
  },
  {
   "cell_type": "code",
   "execution_count": null,
   "metadata": {},
   "outputs": [],
   "source": [
    "# setting url information\n",
    "returntype = 'geographies'\n",
    "searchtype = 'addressbatch'\n",
    "url = f'https://geocoding.geo.census.gov/geocoder/{returntype}/{searchtype}'\n",
    "\n",
    "# establishing the file path and opening it\n",
    "file_path = './data/address_batch_1.csv'\n",
    "files = {'addressFile': (file_path, open(file_path, 'rb'), 'text/csv')}\n",
    "\n",
    "# identifying the data type to pull\n",
    "payload = {'benchmark':'Public_AR_Current', 'vintage':'Census2010_Current'}\n",
    "\n",
    "# post the requests\n",
    "s = requests.get(url, files=files, data=payload)"
   ]
  },
  {
   "cell_type": "code",
   "execution_count": null,
   "metadata": {},
   "outputs": [
    {
     "data": {
      "text/plain": [
       "400"
      ]
     },
     "execution_count": 48,
     "metadata": {},
     "output_type": "execute_result"
    }
   ],
   "source": [
    "s.status_code"
   ]
  },
  {
   "cell_type": "code",
   "execution_count": 37,
   "metadata": {},
   "outputs": [
    {
     "data": {
      "text/plain": [
       "7951020"
      ]
     },
     "execution_count": 37,
     "metadata": {},
     "output_type": "execute_result"
    }
   ],
   "source": [
    "mac10"
   ]
  },
  {
   "cell_type": "markdown",
   "metadata": {},
   "source": [
    "### trying 10000 with vintage current current"
   ]
  },
  {
   "cell_type": "code",
   "execution_count": 15,
   "metadata": {},
   "outputs": [
    {
     "ename": "ConnectionError",
     "evalue": "('Connection aborted.', ConnectionResetError(54, 'Connection reset by peer'))",
     "output_type": "error",
     "traceback": [
      "\u001b[0;31m---------------------------------------------------------------------------\u001b[0m",
      "\u001b[0;31mConnectionResetError\u001b[0m                      Traceback (most recent call last)",
      "File \u001b[0;32m~/codeup-data-science/env/lib/python3.9/site-packages/urllib3/connectionpool.py:699\u001b[0m, in \u001b[0;36mHTTPConnectionPool.urlopen\u001b[0;34m(self, method, url, body, headers, retries, redirect, assert_same_host, timeout, pool_timeout, release_conn, chunked, body_pos, **response_kw)\u001b[0m\n\u001b[1;32m    698\u001b[0m \u001b[39m# Make the request on the httplib connection object.\u001b[39;00m\n\u001b[0;32m--> 699\u001b[0m httplib_response \u001b[39m=\u001b[39m \u001b[39mself\u001b[39;49m\u001b[39m.\u001b[39;49m_make_request(\n\u001b[1;32m    700\u001b[0m     conn,\n\u001b[1;32m    701\u001b[0m     method,\n\u001b[1;32m    702\u001b[0m     url,\n\u001b[1;32m    703\u001b[0m     timeout\u001b[39m=\u001b[39;49mtimeout_obj,\n\u001b[1;32m    704\u001b[0m     body\u001b[39m=\u001b[39;49mbody,\n\u001b[1;32m    705\u001b[0m     headers\u001b[39m=\u001b[39;49mheaders,\n\u001b[1;32m    706\u001b[0m     chunked\u001b[39m=\u001b[39;49mchunked,\n\u001b[1;32m    707\u001b[0m )\n\u001b[1;32m    709\u001b[0m \u001b[39m# If we're going to release the connection in ``finally:``, then\u001b[39;00m\n\u001b[1;32m    710\u001b[0m \u001b[39m# the response doesn't need to know about the connection. Otherwise\u001b[39;00m\n\u001b[1;32m    711\u001b[0m \u001b[39m# it will also try to release it and we'll have a double-release\u001b[39;00m\n\u001b[1;32m    712\u001b[0m \u001b[39m# mess.\u001b[39;00m\n",
      "File \u001b[0;32m~/codeup-data-science/env/lib/python3.9/site-packages/urllib3/connectionpool.py:445\u001b[0m, in \u001b[0;36mHTTPConnectionPool._make_request\u001b[0;34m(self, conn, method, url, timeout, chunked, **httplib_request_kw)\u001b[0m\n\u001b[1;32m    441\u001b[0m         \u001b[39mexcept\u001b[39;00m \u001b[39mBaseException\u001b[39;00m \u001b[39mas\u001b[39;00m e:\n\u001b[1;32m    442\u001b[0m             \u001b[39m# Remove the TypeError from the exception chain in\u001b[39;00m\n\u001b[1;32m    443\u001b[0m             \u001b[39m# Python 3 (including for exceptions like SystemExit).\u001b[39;00m\n\u001b[1;32m    444\u001b[0m             \u001b[39m# Otherwise it looks like a bug in the code.\u001b[39;00m\n\u001b[0;32m--> 445\u001b[0m             six\u001b[39m.\u001b[39;49mraise_from(e, \u001b[39mNone\u001b[39;49;00m)\n\u001b[1;32m    446\u001b[0m \u001b[39mexcept\u001b[39;00m (SocketTimeout, BaseSSLError, SocketError) \u001b[39mas\u001b[39;00m e:\n",
      "File \u001b[0;32m<string>:3\u001b[0m, in \u001b[0;36mraise_from\u001b[0;34m(value, from_value)\u001b[0m\n",
      "File \u001b[0;32m~/codeup-data-science/env/lib/python3.9/site-packages/urllib3/connectionpool.py:440\u001b[0m, in \u001b[0;36mHTTPConnectionPool._make_request\u001b[0;34m(self, conn, method, url, timeout, chunked, **httplib_request_kw)\u001b[0m\n\u001b[1;32m    439\u001b[0m \u001b[39mtry\u001b[39;00m:\n\u001b[0;32m--> 440\u001b[0m     httplib_response \u001b[39m=\u001b[39m conn\u001b[39m.\u001b[39;49mgetresponse()\n\u001b[1;32m    441\u001b[0m \u001b[39mexcept\u001b[39;00m \u001b[39mBaseException\u001b[39;00m \u001b[39mas\u001b[39;00m e:\n\u001b[1;32m    442\u001b[0m     \u001b[39m# Remove the TypeError from the exception chain in\u001b[39;00m\n\u001b[1;32m    443\u001b[0m     \u001b[39m# Python 3 (including for exceptions like SystemExit).\u001b[39;00m\n\u001b[1;32m    444\u001b[0m     \u001b[39m# Otherwise it looks like a bug in the code.\u001b[39;00m\n",
      "File \u001b[0;32m/opt/homebrew/anaconda3/lib/python3.9/http/client.py:1377\u001b[0m, in \u001b[0;36mHTTPConnection.getresponse\u001b[0;34m(self)\u001b[0m\n\u001b[1;32m   1376\u001b[0m \u001b[39mtry\u001b[39;00m:\n\u001b[0;32m-> 1377\u001b[0m     response\u001b[39m.\u001b[39;49mbegin()\n\u001b[1;32m   1378\u001b[0m \u001b[39mexcept\u001b[39;00m \u001b[39mConnectionError\u001b[39;00m:\n",
      "File \u001b[0;32m/opt/homebrew/anaconda3/lib/python3.9/http/client.py:320\u001b[0m, in \u001b[0;36mHTTPResponse.begin\u001b[0;34m(self)\u001b[0m\n\u001b[1;32m    319\u001b[0m \u001b[39mwhile\u001b[39;00m \u001b[39mTrue\u001b[39;00m:\n\u001b[0;32m--> 320\u001b[0m     version, status, reason \u001b[39m=\u001b[39m \u001b[39mself\u001b[39;49m\u001b[39m.\u001b[39;49m_read_status()\n\u001b[1;32m    321\u001b[0m     \u001b[39mif\u001b[39;00m status \u001b[39m!=\u001b[39m CONTINUE:\n",
      "File \u001b[0;32m/opt/homebrew/anaconda3/lib/python3.9/http/client.py:281\u001b[0m, in \u001b[0;36mHTTPResponse._read_status\u001b[0;34m(self)\u001b[0m\n\u001b[1;32m    280\u001b[0m \u001b[39mdef\u001b[39;00m \u001b[39m_read_status\u001b[39m(\u001b[39mself\u001b[39m):\n\u001b[0;32m--> 281\u001b[0m     line \u001b[39m=\u001b[39m \u001b[39mstr\u001b[39m(\u001b[39mself\u001b[39;49m\u001b[39m.\u001b[39;49mfp\u001b[39m.\u001b[39;49mreadline(_MAXLINE \u001b[39m+\u001b[39;49m \u001b[39m1\u001b[39;49m), \u001b[39m\"\u001b[39m\u001b[39miso-8859-1\u001b[39m\u001b[39m\"\u001b[39m)\n\u001b[1;32m    282\u001b[0m     \u001b[39mif\u001b[39;00m \u001b[39mlen\u001b[39m(line) \u001b[39m>\u001b[39m _MAXLINE:\n",
      "File \u001b[0;32m/opt/homebrew/anaconda3/lib/python3.9/socket.py:704\u001b[0m, in \u001b[0;36mSocketIO.readinto\u001b[0;34m(self, b)\u001b[0m\n\u001b[1;32m    703\u001b[0m \u001b[39mtry\u001b[39;00m:\n\u001b[0;32m--> 704\u001b[0m     \u001b[39mreturn\u001b[39;00m \u001b[39mself\u001b[39;49m\u001b[39m.\u001b[39;49m_sock\u001b[39m.\u001b[39;49mrecv_into(b)\n\u001b[1;32m    705\u001b[0m \u001b[39mexcept\u001b[39;00m timeout:\n",
      "File \u001b[0;32m/opt/homebrew/anaconda3/lib/python3.9/ssl.py:1241\u001b[0m, in \u001b[0;36mSSLSocket.recv_into\u001b[0;34m(self, buffer, nbytes, flags)\u001b[0m\n\u001b[1;32m   1238\u001b[0m         \u001b[39mraise\u001b[39;00m \u001b[39mValueError\u001b[39;00m(\n\u001b[1;32m   1239\u001b[0m           \u001b[39m\"\u001b[39m\u001b[39mnon-zero flags not allowed in calls to recv_into() on \u001b[39m\u001b[39m%s\u001b[39;00m\u001b[39m\"\u001b[39m \u001b[39m%\u001b[39m\n\u001b[1;32m   1240\u001b[0m           \u001b[39mself\u001b[39m\u001b[39m.\u001b[39m\u001b[39m__class__\u001b[39m)\n\u001b[0;32m-> 1241\u001b[0m     \u001b[39mreturn\u001b[39;00m \u001b[39mself\u001b[39;49m\u001b[39m.\u001b[39;49mread(nbytes, buffer)\n\u001b[1;32m   1242\u001b[0m \u001b[39melse\u001b[39;00m:\n",
      "File \u001b[0;32m/opt/homebrew/anaconda3/lib/python3.9/ssl.py:1099\u001b[0m, in \u001b[0;36mSSLSocket.read\u001b[0;34m(self, len, buffer)\u001b[0m\n\u001b[1;32m   1098\u001b[0m \u001b[39mif\u001b[39;00m buffer \u001b[39mis\u001b[39;00m \u001b[39mnot\u001b[39;00m \u001b[39mNone\u001b[39;00m:\n\u001b[0;32m-> 1099\u001b[0m     \u001b[39mreturn\u001b[39;00m \u001b[39mself\u001b[39;49m\u001b[39m.\u001b[39;49m_sslobj\u001b[39m.\u001b[39;49mread(\u001b[39mlen\u001b[39;49m, buffer)\n\u001b[1;32m   1100\u001b[0m \u001b[39melse\u001b[39;00m:\n",
      "\u001b[0;31mConnectionResetError\u001b[0m: [Errno 54] Connection reset by peer",
      "\nDuring handling of the above exception, another exception occurred:\n",
      "\u001b[0;31mProtocolError\u001b[0m                             Traceback (most recent call last)",
      "File \u001b[0;32m~/codeup-data-science/env/lib/python3.9/site-packages/requests/adapters.py:486\u001b[0m, in \u001b[0;36mHTTPAdapter.send\u001b[0;34m(self, request, stream, timeout, verify, cert, proxies)\u001b[0m\n\u001b[1;32m    485\u001b[0m \u001b[39mtry\u001b[39;00m:\n\u001b[0;32m--> 486\u001b[0m     resp \u001b[39m=\u001b[39m conn\u001b[39m.\u001b[39;49murlopen(\n\u001b[1;32m    487\u001b[0m         method\u001b[39m=\u001b[39;49mrequest\u001b[39m.\u001b[39;49mmethod,\n\u001b[1;32m    488\u001b[0m         url\u001b[39m=\u001b[39;49murl,\n\u001b[1;32m    489\u001b[0m         body\u001b[39m=\u001b[39;49mrequest\u001b[39m.\u001b[39;49mbody,\n\u001b[1;32m    490\u001b[0m         headers\u001b[39m=\u001b[39;49mrequest\u001b[39m.\u001b[39;49mheaders,\n\u001b[1;32m    491\u001b[0m         redirect\u001b[39m=\u001b[39;49m\u001b[39mFalse\u001b[39;49;00m,\n\u001b[1;32m    492\u001b[0m         assert_same_host\u001b[39m=\u001b[39;49m\u001b[39mFalse\u001b[39;49;00m,\n\u001b[1;32m    493\u001b[0m         preload_content\u001b[39m=\u001b[39;49m\u001b[39mFalse\u001b[39;49;00m,\n\u001b[1;32m    494\u001b[0m         decode_content\u001b[39m=\u001b[39;49m\u001b[39mFalse\u001b[39;49;00m,\n\u001b[1;32m    495\u001b[0m         retries\u001b[39m=\u001b[39;49m\u001b[39mself\u001b[39;49m\u001b[39m.\u001b[39;49mmax_retries,\n\u001b[1;32m    496\u001b[0m         timeout\u001b[39m=\u001b[39;49mtimeout,\n\u001b[1;32m    497\u001b[0m         chunked\u001b[39m=\u001b[39;49mchunked,\n\u001b[1;32m    498\u001b[0m     )\n\u001b[1;32m    500\u001b[0m \u001b[39mexcept\u001b[39;00m (ProtocolError, \u001b[39mOSError\u001b[39;00m) \u001b[39mas\u001b[39;00m err:\n",
      "File \u001b[0;32m~/codeup-data-science/env/lib/python3.9/site-packages/urllib3/connectionpool.py:755\u001b[0m, in \u001b[0;36mHTTPConnectionPool.urlopen\u001b[0;34m(self, method, url, body, headers, retries, redirect, assert_same_host, timeout, pool_timeout, release_conn, chunked, body_pos, **response_kw)\u001b[0m\n\u001b[1;32m    753\u001b[0m     e \u001b[39m=\u001b[39m ProtocolError(\u001b[39m\"\u001b[39m\u001b[39mConnection aborted.\u001b[39m\u001b[39m\"\u001b[39m, e)\n\u001b[0;32m--> 755\u001b[0m retries \u001b[39m=\u001b[39m retries\u001b[39m.\u001b[39;49mincrement(\n\u001b[1;32m    756\u001b[0m     method, url, error\u001b[39m=\u001b[39;49me, _pool\u001b[39m=\u001b[39;49m\u001b[39mself\u001b[39;49m, _stacktrace\u001b[39m=\u001b[39;49msys\u001b[39m.\u001b[39;49mexc_info()[\u001b[39m2\u001b[39;49m]\n\u001b[1;32m    757\u001b[0m )\n\u001b[1;32m    758\u001b[0m retries\u001b[39m.\u001b[39msleep()\n",
      "File \u001b[0;32m~/codeup-data-science/env/lib/python3.9/site-packages/urllib3/util/retry.py:532\u001b[0m, in \u001b[0;36mRetry.increment\u001b[0;34m(self, method, url, response, error, _pool, _stacktrace)\u001b[0m\n\u001b[1;32m    531\u001b[0m \u001b[39mif\u001b[39;00m read \u001b[39mis\u001b[39;00m \u001b[39mFalse\u001b[39;00m \u001b[39mor\u001b[39;00m \u001b[39mnot\u001b[39;00m \u001b[39mself\u001b[39m\u001b[39m.\u001b[39m_is_method_retryable(method):\n\u001b[0;32m--> 532\u001b[0m     \u001b[39mraise\u001b[39;00m six\u001b[39m.\u001b[39;49mreraise(\u001b[39mtype\u001b[39;49m(error), error, _stacktrace)\n\u001b[1;32m    533\u001b[0m \u001b[39melif\u001b[39;00m read \u001b[39mis\u001b[39;00m \u001b[39mnot\u001b[39;00m \u001b[39mNone\u001b[39;00m:\n",
      "File \u001b[0;32m~/codeup-data-science/env/lib/python3.9/site-packages/urllib3/packages/six.py:769\u001b[0m, in \u001b[0;36mreraise\u001b[0;34m(tp, value, tb)\u001b[0m\n\u001b[1;32m    768\u001b[0m \u001b[39mif\u001b[39;00m value\u001b[39m.\u001b[39m__traceback__ \u001b[39mis\u001b[39;00m \u001b[39mnot\u001b[39;00m tb:\n\u001b[0;32m--> 769\u001b[0m     \u001b[39mraise\u001b[39;00m value\u001b[39m.\u001b[39mwith_traceback(tb)\n\u001b[1;32m    770\u001b[0m \u001b[39mraise\u001b[39;00m value\n",
      "File \u001b[0;32m~/codeup-data-science/env/lib/python3.9/site-packages/urllib3/connectionpool.py:699\u001b[0m, in \u001b[0;36mHTTPConnectionPool.urlopen\u001b[0;34m(self, method, url, body, headers, retries, redirect, assert_same_host, timeout, pool_timeout, release_conn, chunked, body_pos, **response_kw)\u001b[0m\n\u001b[1;32m    698\u001b[0m \u001b[39m# Make the request on the httplib connection object.\u001b[39;00m\n\u001b[0;32m--> 699\u001b[0m httplib_response \u001b[39m=\u001b[39m \u001b[39mself\u001b[39;49m\u001b[39m.\u001b[39;49m_make_request(\n\u001b[1;32m    700\u001b[0m     conn,\n\u001b[1;32m    701\u001b[0m     method,\n\u001b[1;32m    702\u001b[0m     url,\n\u001b[1;32m    703\u001b[0m     timeout\u001b[39m=\u001b[39;49mtimeout_obj,\n\u001b[1;32m    704\u001b[0m     body\u001b[39m=\u001b[39;49mbody,\n\u001b[1;32m    705\u001b[0m     headers\u001b[39m=\u001b[39;49mheaders,\n\u001b[1;32m    706\u001b[0m     chunked\u001b[39m=\u001b[39;49mchunked,\n\u001b[1;32m    707\u001b[0m )\n\u001b[1;32m    709\u001b[0m \u001b[39m# If we're going to release the connection in ``finally:``, then\u001b[39;00m\n\u001b[1;32m    710\u001b[0m \u001b[39m# the response doesn't need to know about the connection. Otherwise\u001b[39;00m\n\u001b[1;32m    711\u001b[0m \u001b[39m# it will also try to release it and we'll have a double-release\u001b[39;00m\n\u001b[1;32m    712\u001b[0m \u001b[39m# mess.\u001b[39;00m\n",
      "File \u001b[0;32m~/codeup-data-science/env/lib/python3.9/site-packages/urllib3/connectionpool.py:445\u001b[0m, in \u001b[0;36mHTTPConnectionPool._make_request\u001b[0;34m(self, conn, method, url, timeout, chunked, **httplib_request_kw)\u001b[0m\n\u001b[1;32m    441\u001b[0m         \u001b[39mexcept\u001b[39;00m \u001b[39mBaseException\u001b[39;00m \u001b[39mas\u001b[39;00m e:\n\u001b[1;32m    442\u001b[0m             \u001b[39m# Remove the TypeError from the exception chain in\u001b[39;00m\n\u001b[1;32m    443\u001b[0m             \u001b[39m# Python 3 (including for exceptions like SystemExit).\u001b[39;00m\n\u001b[1;32m    444\u001b[0m             \u001b[39m# Otherwise it looks like a bug in the code.\u001b[39;00m\n\u001b[0;32m--> 445\u001b[0m             six\u001b[39m.\u001b[39;49mraise_from(e, \u001b[39mNone\u001b[39;49;00m)\n\u001b[1;32m    446\u001b[0m \u001b[39mexcept\u001b[39;00m (SocketTimeout, BaseSSLError, SocketError) \u001b[39mas\u001b[39;00m e:\n",
      "File \u001b[0;32m<string>:3\u001b[0m, in \u001b[0;36mraise_from\u001b[0;34m(value, from_value)\u001b[0m\n",
      "File \u001b[0;32m~/codeup-data-science/env/lib/python3.9/site-packages/urllib3/connectionpool.py:440\u001b[0m, in \u001b[0;36mHTTPConnectionPool._make_request\u001b[0;34m(self, conn, method, url, timeout, chunked, **httplib_request_kw)\u001b[0m\n\u001b[1;32m    439\u001b[0m \u001b[39mtry\u001b[39;00m:\n\u001b[0;32m--> 440\u001b[0m     httplib_response \u001b[39m=\u001b[39m conn\u001b[39m.\u001b[39;49mgetresponse()\n\u001b[1;32m    441\u001b[0m \u001b[39mexcept\u001b[39;00m \u001b[39mBaseException\u001b[39;00m \u001b[39mas\u001b[39;00m e:\n\u001b[1;32m    442\u001b[0m     \u001b[39m# Remove the TypeError from the exception chain in\u001b[39;00m\n\u001b[1;32m    443\u001b[0m     \u001b[39m# Python 3 (including for exceptions like SystemExit).\u001b[39;00m\n\u001b[1;32m    444\u001b[0m     \u001b[39m# Otherwise it looks like a bug in the code.\u001b[39;00m\n",
      "File \u001b[0;32m/opt/homebrew/anaconda3/lib/python3.9/http/client.py:1377\u001b[0m, in \u001b[0;36mHTTPConnection.getresponse\u001b[0;34m(self)\u001b[0m\n\u001b[1;32m   1376\u001b[0m \u001b[39mtry\u001b[39;00m:\n\u001b[0;32m-> 1377\u001b[0m     response\u001b[39m.\u001b[39;49mbegin()\n\u001b[1;32m   1378\u001b[0m \u001b[39mexcept\u001b[39;00m \u001b[39mConnectionError\u001b[39;00m:\n",
      "File \u001b[0;32m/opt/homebrew/anaconda3/lib/python3.9/http/client.py:320\u001b[0m, in \u001b[0;36mHTTPResponse.begin\u001b[0;34m(self)\u001b[0m\n\u001b[1;32m    319\u001b[0m \u001b[39mwhile\u001b[39;00m \u001b[39mTrue\u001b[39;00m:\n\u001b[0;32m--> 320\u001b[0m     version, status, reason \u001b[39m=\u001b[39m \u001b[39mself\u001b[39;49m\u001b[39m.\u001b[39;49m_read_status()\n\u001b[1;32m    321\u001b[0m     \u001b[39mif\u001b[39;00m status \u001b[39m!=\u001b[39m CONTINUE:\n",
      "File \u001b[0;32m/opt/homebrew/anaconda3/lib/python3.9/http/client.py:281\u001b[0m, in \u001b[0;36mHTTPResponse._read_status\u001b[0;34m(self)\u001b[0m\n\u001b[1;32m    280\u001b[0m \u001b[39mdef\u001b[39;00m \u001b[39m_read_status\u001b[39m(\u001b[39mself\u001b[39m):\n\u001b[0;32m--> 281\u001b[0m     line \u001b[39m=\u001b[39m \u001b[39mstr\u001b[39m(\u001b[39mself\u001b[39;49m\u001b[39m.\u001b[39;49mfp\u001b[39m.\u001b[39;49mreadline(_MAXLINE \u001b[39m+\u001b[39;49m \u001b[39m1\u001b[39;49m), \u001b[39m\"\u001b[39m\u001b[39miso-8859-1\u001b[39m\u001b[39m\"\u001b[39m)\n\u001b[1;32m    282\u001b[0m     \u001b[39mif\u001b[39;00m \u001b[39mlen\u001b[39m(line) \u001b[39m>\u001b[39m _MAXLINE:\n",
      "File \u001b[0;32m/opt/homebrew/anaconda3/lib/python3.9/socket.py:704\u001b[0m, in \u001b[0;36mSocketIO.readinto\u001b[0;34m(self, b)\u001b[0m\n\u001b[1;32m    703\u001b[0m \u001b[39mtry\u001b[39;00m:\n\u001b[0;32m--> 704\u001b[0m     \u001b[39mreturn\u001b[39;00m \u001b[39mself\u001b[39;49m\u001b[39m.\u001b[39;49m_sock\u001b[39m.\u001b[39;49mrecv_into(b)\n\u001b[1;32m    705\u001b[0m \u001b[39mexcept\u001b[39;00m timeout:\n",
      "File \u001b[0;32m/opt/homebrew/anaconda3/lib/python3.9/ssl.py:1241\u001b[0m, in \u001b[0;36mSSLSocket.recv_into\u001b[0;34m(self, buffer, nbytes, flags)\u001b[0m\n\u001b[1;32m   1238\u001b[0m         \u001b[39mraise\u001b[39;00m \u001b[39mValueError\u001b[39;00m(\n\u001b[1;32m   1239\u001b[0m           \u001b[39m\"\u001b[39m\u001b[39mnon-zero flags not allowed in calls to recv_into() on \u001b[39m\u001b[39m%s\u001b[39;00m\u001b[39m\"\u001b[39m \u001b[39m%\u001b[39m\n\u001b[1;32m   1240\u001b[0m           \u001b[39mself\u001b[39m\u001b[39m.\u001b[39m\u001b[39m__class__\u001b[39m)\n\u001b[0;32m-> 1241\u001b[0m     \u001b[39mreturn\u001b[39;00m \u001b[39mself\u001b[39;49m\u001b[39m.\u001b[39;49mread(nbytes, buffer)\n\u001b[1;32m   1242\u001b[0m \u001b[39melse\u001b[39;00m:\n",
      "File \u001b[0;32m/opt/homebrew/anaconda3/lib/python3.9/ssl.py:1099\u001b[0m, in \u001b[0;36mSSLSocket.read\u001b[0;34m(self, len, buffer)\u001b[0m\n\u001b[1;32m   1098\u001b[0m \u001b[39mif\u001b[39;00m buffer \u001b[39mis\u001b[39;00m \u001b[39mnot\u001b[39;00m \u001b[39mNone\u001b[39;00m:\n\u001b[0;32m-> 1099\u001b[0m     \u001b[39mreturn\u001b[39;00m \u001b[39mself\u001b[39;49m\u001b[39m.\u001b[39;49m_sslobj\u001b[39m.\u001b[39;49mread(\u001b[39mlen\u001b[39;49m, buffer)\n\u001b[1;32m   1100\u001b[0m \u001b[39melse\u001b[39;00m:\n",
      "\u001b[0;31mProtocolError\u001b[0m: ('Connection aborted.', ConnectionResetError(54, 'Connection reset by peer'))",
      "\nDuring handling of the above exception, another exception occurred:\n",
      "\u001b[0;31mConnectionError\u001b[0m                           Traceback (most recent call last)",
      "Cell \u001b[0;32mIn[15], line 13\u001b[0m\n\u001b[1;32m      8\u001b[0m files \u001b[39m=\u001b[39m {\u001b[39m'\u001b[39m\u001b[39maddressFile\u001b[39m\u001b[39m'\u001b[39m: (file_path, \u001b[39mopen\u001b[39m(file_path, \u001b[39m'\u001b[39m\u001b[39mrb\u001b[39m\u001b[39m'\u001b[39m), \u001b[39m'\u001b[39m\u001b[39mtext/csv\u001b[39m\u001b[39m'\u001b[39m)}\n\u001b[1;32m     11\u001b[0m payload \u001b[39m=\u001b[39m {\u001b[39m'\u001b[39m\u001b[39mbenchmark\u001b[39m\u001b[39m'\u001b[39m:\u001b[39m'\u001b[39m\u001b[39mPublic_AR_Current\u001b[39m\u001b[39m'\u001b[39m, \u001b[39m'\u001b[39m\u001b[39mvintage\u001b[39m\u001b[39m'\u001b[39m:\u001b[39m'\u001b[39m\u001b[39mCurrent_Current\u001b[39m\u001b[39m'\u001b[39m}\n\u001b[0;32m---> 13\u001b[0m s \u001b[39m=\u001b[39m requests\u001b[39m.\u001b[39;49mpost(url, files\u001b[39m=\u001b[39;49mfiles, data\u001b[39m=\u001b[39;49mpayload)\n\u001b[1;32m     15\u001b[0m \u001b[39m# got a connectin timeout error, adjusting the file size\u001b[39;00m\n",
      "File \u001b[0;32m~/codeup-data-science/env/lib/python3.9/site-packages/requests/api.py:115\u001b[0m, in \u001b[0;36mpost\u001b[0;34m(url, data, json, **kwargs)\u001b[0m\n\u001b[1;32m    103\u001b[0m \u001b[39mdef\u001b[39;00m \u001b[39mpost\u001b[39m(url, data\u001b[39m=\u001b[39m\u001b[39mNone\u001b[39;00m, json\u001b[39m=\u001b[39m\u001b[39mNone\u001b[39;00m, \u001b[39m*\u001b[39m\u001b[39m*\u001b[39mkwargs):\n\u001b[1;32m    104\u001b[0m \u001b[39m    \u001b[39m\u001b[39mr\u001b[39m\u001b[39m\"\"\"Sends a POST request.\u001b[39;00m\n\u001b[1;32m    105\u001b[0m \n\u001b[1;32m    106\u001b[0m \u001b[39m    :param url: URL for the new :class:`Request` object.\u001b[39;00m\n\u001b[0;32m   (...)\u001b[0m\n\u001b[1;32m    112\u001b[0m \u001b[39m    :rtype: requests.Response\u001b[39;00m\n\u001b[1;32m    113\u001b[0m \u001b[39m    \"\"\"\u001b[39;00m\n\u001b[0;32m--> 115\u001b[0m     \u001b[39mreturn\u001b[39;00m request(\u001b[39m\"\u001b[39;49m\u001b[39mpost\u001b[39;49m\u001b[39m\"\u001b[39;49m, url, data\u001b[39m=\u001b[39;49mdata, json\u001b[39m=\u001b[39;49mjson, \u001b[39m*\u001b[39;49m\u001b[39m*\u001b[39;49mkwargs)\n",
      "File \u001b[0;32m~/codeup-data-science/env/lib/python3.9/site-packages/requests/api.py:59\u001b[0m, in \u001b[0;36mrequest\u001b[0;34m(method, url, **kwargs)\u001b[0m\n\u001b[1;32m     55\u001b[0m \u001b[39m# By using the 'with' statement we are sure the session is closed, thus we\u001b[39;00m\n\u001b[1;32m     56\u001b[0m \u001b[39m# avoid leaving sockets open which can trigger a ResourceWarning in some\u001b[39;00m\n\u001b[1;32m     57\u001b[0m \u001b[39m# cases, and look like a memory leak in others.\u001b[39;00m\n\u001b[1;32m     58\u001b[0m \u001b[39mwith\u001b[39;00m sessions\u001b[39m.\u001b[39mSession() \u001b[39mas\u001b[39;00m session:\n\u001b[0;32m---> 59\u001b[0m     \u001b[39mreturn\u001b[39;00m session\u001b[39m.\u001b[39;49mrequest(method\u001b[39m=\u001b[39;49mmethod, url\u001b[39m=\u001b[39;49murl, \u001b[39m*\u001b[39;49m\u001b[39m*\u001b[39;49mkwargs)\n",
      "File \u001b[0;32m~/codeup-data-science/env/lib/python3.9/site-packages/requests/sessions.py:589\u001b[0m, in \u001b[0;36mSession.request\u001b[0;34m(self, method, url, params, data, headers, cookies, files, auth, timeout, allow_redirects, proxies, hooks, stream, verify, cert, json)\u001b[0m\n\u001b[1;32m    584\u001b[0m send_kwargs \u001b[39m=\u001b[39m {\n\u001b[1;32m    585\u001b[0m     \u001b[39m\"\u001b[39m\u001b[39mtimeout\u001b[39m\u001b[39m\"\u001b[39m: timeout,\n\u001b[1;32m    586\u001b[0m     \u001b[39m\"\u001b[39m\u001b[39mallow_redirects\u001b[39m\u001b[39m\"\u001b[39m: allow_redirects,\n\u001b[1;32m    587\u001b[0m }\n\u001b[1;32m    588\u001b[0m send_kwargs\u001b[39m.\u001b[39mupdate(settings)\n\u001b[0;32m--> 589\u001b[0m resp \u001b[39m=\u001b[39m \u001b[39mself\u001b[39;49m\u001b[39m.\u001b[39;49msend(prep, \u001b[39m*\u001b[39;49m\u001b[39m*\u001b[39;49msend_kwargs)\n\u001b[1;32m    591\u001b[0m \u001b[39mreturn\u001b[39;00m resp\n",
      "File \u001b[0;32m~/codeup-data-science/env/lib/python3.9/site-packages/requests/sessions.py:703\u001b[0m, in \u001b[0;36mSession.send\u001b[0;34m(self, request, **kwargs)\u001b[0m\n\u001b[1;32m    700\u001b[0m start \u001b[39m=\u001b[39m preferred_clock()\n\u001b[1;32m    702\u001b[0m \u001b[39m# Send the request\u001b[39;00m\n\u001b[0;32m--> 703\u001b[0m r \u001b[39m=\u001b[39m adapter\u001b[39m.\u001b[39;49msend(request, \u001b[39m*\u001b[39;49m\u001b[39m*\u001b[39;49mkwargs)\n\u001b[1;32m    705\u001b[0m \u001b[39m# Total elapsed time of the request (approximately)\u001b[39;00m\n\u001b[1;32m    706\u001b[0m elapsed \u001b[39m=\u001b[39m preferred_clock() \u001b[39m-\u001b[39m start\n",
      "File \u001b[0;32m~/codeup-data-science/env/lib/python3.9/site-packages/requests/adapters.py:501\u001b[0m, in \u001b[0;36mHTTPAdapter.send\u001b[0;34m(self, request, stream, timeout, verify, cert, proxies)\u001b[0m\n\u001b[1;32m    486\u001b[0m     resp \u001b[39m=\u001b[39m conn\u001b[39m.\u001b[39murlopen(\n\u001b[1;32m    487\u001b[0m         method\u001b[39m=\u001b[39mrequest\u001b[39m.\u001b[39mmethod,\n\u001b[1;32m    488\u001b[0m         url\u001b[39m=\u001b[39murl,\n\u001b[0;32m   (...)\u001b[0m\n\u001b[1;32m    497\u001b[0m         chunked\u001b[39m=\u001b[39mchunked,\n\u001b[1;32m    498\u001b[0m     )\n\u001b[1;32m    500\u001b[0m \u001b[39mexcept\u001b[39;00m (ProtocolError, \u001b[39mOSError\u001b[39;00m) \u001b[39mas\u001b[39;00m err:\n\u001b[0;32m--> 501\u001b[0m     \u001b[39mraise\u001b[39;00m \u001b[39mConnectionError\u001b[39;00m(err, request\u001b[39m=\u001b[39mrequest)\n\u001b[1;32m    503\u001b[0m \u001b[39mexcept\u001b[39;00m MaxRetryError \u001b[39mas\u001b[39;00m e:\n\u001b[1;32m    504\u001b[0m     \u001b[39mif\u001b[39;00m \u001b[39misinstance\u001b[39m(e\u001b[39m.\u001b[39mreason, ConnectTimeoutError):\n\u001b[1;32m    505\u001b[0m         \u001b[39m# TODO: Remove this in 3.0.0: see #2811\u001b[39;00m\n",
      "\u001b[0;31mConnectionError\u001b[0m: ('Connection aborted.', ConnectionResetError(54, 'Connection reset by peer'))"
     ]
    }
   ],
   "source": [
    "# setting url information\n",
    "returntype = 'geographies'\n",
    "searchtype = 'addressbatch'\n",
    "url = f'https://geocoding.geo.census.gov/geocoder/{returntype}/{searchtype}'\n",
    "\n",
    "# establishing the \n",
    "file_path = './data/address_batch_1.csv'\n",
    "files = {'addressFile': (file_path, open(file_path, 'rb'), 'text/csv')}\n",
    "\n",
    "\n",
    "payload = {'benchmark':'Public_AR_Current', 'vintage':'Current_Current'}\n",
    "\n",
    "s = requests.post(url, files=files, data=payload)\n",
    "\n"
   ]
  },
  {
   "cell_type": "markdown",
   "metadata": {},
   "source": [
    "##### Notes:\n",
    "* While it is frustrating, but it seems the most we can do for batch addresses wihtout a conneciton timeout is 2500 so I will use that number ot create a loop\n",
    "* Both the api and the geocoding website do not actually support a 10000 file geocoding request\n",
    "\n",
    "##### Actions:\n",
    "* Try to get the geocoding through geocoder from python -  *Failed*\n",
    "* Complete the tutorial with only 2500 addresses in the csv \n",
    "* Create a loop to complete the tutorial with all the data\n",
    "* Switch to the geocoder "
   ]
  },
  {
   "cell_type": "markdown",
   "metadata": {},
   "source": [
    "## Geocoder Python Package\n",
    "Failure"
   ]
  },
  {
   "cell_type": "code",
   "execution_count": 44,
   "metadata": {},
   "outputs": [
    {
     "data": {
      "text/plain": [
       "'11506 LULLSTREAM DR,INDIANAPOLIS,IN,46229'"
      ]
     },
     "execution_count": 44,
     "metadata": {},
     "output_type": "execute_result"
    }
   ],
   "source": [
    "full_address_mac10 = unique_address_mac_10['incident_address'] +','+ unique_address_mac_10['city'] +','+ unique_address_mac_10['state'] +','+ unique_address_mac_10['zip'].astype(str)\n",
    "\n",
    "type(full_address_mac10)\n",
    "\n",
    "full_address_mac10.iloc[1]"
   ]
  },
  {
   "cell_type": "code",
   "execution_count": 54,
   "metadata": {},
   "outputs": [],
   "source": [
    "import geocoder\n",
    "g = geocoder.google('Mountain View, CA')\n",
    "g.latlng"
   ]
  },
  {
   "cell_type": "markdown",
   "metadata": {},
   "source": [
    "## Complete tutorial"
   ]
  },
  {
   "cell_type": "markdown",
   "metadata": {},
   "source": [
    "### Create for loop to save all the batches of address"
   ]
  },
  {
   "cell_type": "code",
   "execution_count": 76,
   "metadata": {},
   "outputs": [
    {
     "name": "stdout",
     "output_type": "stream",
     "text": [
      "260\n"
     ]
    }
   ],
   "source": [
    "# there will be 104 requests and 104 csv files\n",
    "print(len(list(range(0,len(unique_address_mac_10)+1, 1000))))\n",
    "\n",
    "ls = list(range(0,len(unique_address_mac_10)+1, 1000))\n",
    "\n",
    "for i, v in enumerate(ls):\n",
    "    # print(i, v)\n",
    "    if i == 0:\n",
    "        pass\n",
    "    else:\n",
    "        # stablish file path with i as the changed number for the addresses \n",
    "        file_path = f'./data/address_batch10_{i}.csv'\n",
    "        \n",
    "        batch = unique_address_mac_10.iloc[ls[i-1]:ls[i]]\n",
    "\n",
    "        batch.to_csv(file_path, header=False)"
   ]
  },
  {
   "cell_type": "markdown",
   "metadata": {},
   "source": [
    "### API request"
   ]
  },
  {
   "cell_type": "code",
   "execution_count": 77,
   "metadata": {},
   "outputs": [
    {
     "ename": "ConnectionError",
     "evalue": "('Connection aborted.', ConnectionResetError(54, 'Connection reset by peer'))",
     "output_type": "error",
     "traceback": [
      "\u001b[0;31m---------------------------------------------------------------------------\u001b[0m",
      "\u001b[0;31mConnectionResetError\u001b[0m                      Traceback (most recent call last)",
      "File \u001b[0;32m~/codeup-data-science/env/lib/python3.9/site-packages/urllib3/connectionpool.py:699\u001b[0m, in \u001b[0;36mHTTPConnectionPool.urlopen\u001b[0;34m(self, method, url, body, headers, retries, redirect, assert_same_host, timeout, pool_timeout, release_conn, chunked, body_pos, **response_kw)\u001b[0m\n\u001b[1;32m    698\u001b[0m \u001b[39m# Make the request on the httplib connection object.\u001b[39;00m\n\u001b[0;32m--> 699\u001b[0m httplib_response \u001b[39m=\u001b[39m \u001b[39mself\u001b[39;49m\u001b[39m.\u001b[39;49m_make_request(\n\u001b[1;32m    700\u001b[0m     conn,\n\u001b[1;32m    701\u001b[0m     method,\n\u001b[1;32m    702\u001b[0m     url,\n\u001b[1;32m    703\u001b[0m     timeout\u001b[39m=\u001b[39;49mtimeout_obj,\n\u001b[1;32m    704\u001b[0m     body\u001b[39m=\u001b[39;49mbody,\n\u001b[1;32m    705\u001b[0m     headers\u001b[39m=\u001b[39;49mheaders,\n\u001b[1;32m    706\u001b[0m     chunked\u001b[39m=\u001b[39;49mchunked,\n\u001b[1;32m    707\u001b[0m )\n\u001b[1;32m    709\u001b[0m \u001b[39m# If we're going to release the connection in ``finally:``, then\u001b[39;00m\n\u001b[1;32m    710\u001b[0m \u001b[39m# the response doesn't need to know about the connection. Otherwise\u001b[39;00m\n\u001b[1;32m    711\u001b[0m \u001b[39m# it will also try to release it and we'll have a double-release\u001b[39;00m\n\u001b[1;32m    712\u001b[0m \u001b[39m# mess.\u001b[39;00m\n",
      "File \u001b[0;32m~/codeup-data-science/env/lib/python3.9/site-packages/urllib3/connectionpool.py:445\u001b[0m, in \u001b[0;36mHTTPConnectionPool._make_request\u001b[0;34m(self, conn, method, url, timeout, chunked, **httplib_request_kw)\u001b[0m\n\u001b[1;32m    441\u001b[0m         \u001b[39mexcept\u001b[39;00m \u001b[39mBaseException\u001b[39;00m \u001b[39mas\u001b[39;00m e:\n\u001b[1;32m    442\u001b[0m             \u001b[39m# Remove the TypeError from the exception chain in\u001b[39;00m\n\u001b[1;32m    443\u001b[0m             \u001b[39m# Python 3 (including for exceptions like SystemExit).\u001b[39;00m\n\u001b[1;32m    444\u001b[0m             \u001b[39m# Otherwise it looks like a bug in the code.\u001b[39;00m\n\u001b[0;32m--> 445\u001b[0m             six\u001b[39m.\u001b[39;49mraise_from(e, \u001b[39mNone\u001b[39;49;00m)\n\u001b[1;32m    446\u001b[0m \u001b[39mexcept\u001b[39;00m (SocketTimeout, BaseSSLError, SocketError) \u001b[39mas\u001b[39;00m e:\n",
      "File \u001b[0;32m<string>:3\u001b[0m, in \u001b[0;36mraise_from\u001b[0;34m(value, from_value)\u001b[0m\n",
      "File \u001b[0;32m~/codeup-data-science/env/lib/python3.9/site-packages/urllib3/connectionpool.py:440\u001b[0m, in \u001b[0;36mHTTPConnectionPool._make_request\u001b[0;34m(self, conn, method, url, timeout, chunked, **httplib_request_kw)\u001b[0m\n\u001b[1;32m    439\u001b[0m \u001b[39mtry\u001b[39;00m:\n\u001b[0;32m--> 440\u001b[0m     httplib_response \u001b[39m=\u001b[39m conn\u001b[39m.\u001b[39;49mgetresponse()\n\u001b[1;32m    441\u001b[0m \u001b[39mexcept\u001b[39;00m \u001b[39mBaseException\u001b[39;00m \u001b[39mas\u001b[39;00m e:\n\u001b[1;32m    442\u001b[0m     \u001b[39m# Remove the TypeError from the exception chain in\u001b[39;00m\n\u001b[1;32m    443\u001b[0m     \u001b[39m# Python 3 (including for exceptions like SystemExit).\u001b[39;00m\n\u001b[1;32m    444\u001b[0m     \u001b[39m# Otherwise it looks like a bug in the code.\u001b[39;00m\n",
      "File \u001b[0;32m/opt/homebrew/anaconda3/lib/python3.9/http/client.py:1377\u001b[0m, in \u001b[0;36mHTTPConnection.getresponse\u001b[0;34m(self)\u001b[0m\n\u001b[1;32m   1376\u001b[0m \u001b[39mtry\u001b[39;00m:\n\u001b[0;32m-> 1377\u001b[0m     response\u001b[39m.\u001b[39;49mbegin()\n\u001b[1;32m   1378\u001b[0m \u001b[39mexcept\u001b[39;00m \u001b[39mConnectionError\u001b[39;00m:\n",
      "File \u001b[0;32m/opt/homebrew/anaconda3/lib/python3.9/http/client.py:320\u001b[0m, in \u001b[0;36mHTTPResponse.begin\u001b[0;34m(self)\u001b[0m\n\u001b[1;32m    319\u001b[0m \u001b[39mwhile\u001b[39;00m \u001b[39mTrue\u001b[39;00m:\n\u001b[0;32m--> 320\u001b[0m     version, status, reason \u001b[39m=\u001b[39m \u001b[39mself\u001b[39;49m\u001b[39m.\u001b[39;49m_read_status()\n\u001b[1;32m    321\u001b[0m     \u001b[39mif\u001b[39;00m status \u001b[39m!=\u001b[39m CONTINUE:\n",
      "File \u001b[0;32m/opt/homebrew/anaconda3/lib/python3.9/http/client.py:281\u001b[0m, in \u001b[0;36mHTTPResponse._read_status\u001b[0;34m(self)\u001b[0m\n\u001b[1;32m    280\u001b[0m \u001b[39mdef\u001b[39;00m \u001b[39m_read_status\u001b[39m(\u001b[39mself\u001b[39m):\n\u001b[0;32m--> 281\u001b[0m     line \u001b[39m=\u001b[39m \u001b[39mstr\u001b[39m(\u001b[39mself\u001b[39;49m\u001b[39m.\u001b[39;49mfp\u001b[39m.\u001b[39;49mreadline(_MAXLINE \u001b[39m+\u001b[39;49m \u001b[39m1\u001b[39;49m), \u001b[39m\"\u001b[39m\u001b[39miso-8859-1\u001b[39m\u001b[39m\"\u001b[39m)\n\u001b[1;32m    282\u001b[0m     \u001b[39mif\u001b[39;00m \u001b[39mlen\u001b[39m(line) \u001b[39m>\u001b[39m _MAXLINE:\n",
      "File \u001b[0;32m/opt/homebrew/anaconda3/lib/python3.9/socket.py:704\u001b[0m, in \u001b[0;36mSocketIO.readinto\u001b[0;34m(self, b)\u001b[0m\n\u001b[1;32m    703\u001b[0m \u001b[39mtry\u001b[39;00m:\n\u001b[0;32m--> 704\u001b[0m     \u001b[39mreturn\u001b[39;00m \u001b[39mself\u001b[39;49m\u001b[39m.\u001b[39;49m_sock\u001b[39m.\u001b[39;49mrecv_into(b)\n\u001b[1;32m    705\u001b[0m \u001b[39mexcept\u001b[39;00m timeout:\n",
      "File \u001b[0;32m/opt/homebrew/anaconda3/lib/python3.9/ssl.py:1241\u001b[0m, in \u001b[0;36mSSLSocket.recv_into\u001b[0;34m(self, buffer, nbytes, flags)\u001b[0m\n\u001b[1;32m   1238\u001b[0m         \u001b[39mraise\u001b[39;00m \u001b[39mValueError\u001b[39;00m(\n\u001b[1;32m   1239\u001b[0m           \u001b[39m\"\u001b[39m\u001b[39mnon-zero flags not allowed in calls to recv_into() on \u001b[39m\u001b[39m%s\u001b[39;00m\u001b[39m\"\u001b[39m \u001b[39m%\u001b[39m\n\u001b[1;32m   1240\u001b[0m           \u001b[39mself\u001b[39m\u001b[39m.\u001b[39m\u001b[39m__class__\u001b[39m)\n\u001b[0;32m-> 1241\u001b[0m     \u001b[39mreturn\u001b[39;00m \u001b[39mself\u001b[39;49m\u001b[39m.\u001b[39;49mread(nbytes, buffer)\n\u001b[1;32m   1242\u001b[0m \u001b[39melse\u001b[39;00m:\n",
      "File \u001b[0;32m/opt/homebrew/anaconda3/lib/python3.9/ssl.py:1099\u001b[0m, in \u001b[0;36mSSLSocket.read\u001b[0;34m(self, len, buffer)\u001b[0m\n\u001b[1;32m   1098\u001b[0m \u001b[39mif\u001b[39;00m buffer \u001b[39mis\u001b[39;00m \u001b[39mnot\u001b[39;00m \u001b[39mNone\u001b[39;00m:\n\u001b[0;32m-> 1099\u001b[0m     \u001b[39mreturn\u001b[39;00m \u001b[39mself\u001b[39;49m\u001b[39m.\u001b[39;49m_sslobj\u001b[39m.\u001b[39;49mread(\u001b[39mlen\u001b[39;49m, buffer)\n\u001b[1;32m   1100\u001b[0m \u001b[39melse\u001b[39;00m:\n",
      "\u001b[0;31mConnectionResetError\u001b[0m: [Errno 54] Connection reset by peer",
      "\nDuring handling of the above exception, another exception occurred:\n",
      "\u001b[0;31mProtocolError\u001b[0m                             Traceback (most recent call last)",
      "File \u001b[0;32m~/codeup-data-science/env/lib/python3.9/site-packages/requests/adapters.py:486\u001b[0m, in \u001b[0;36mHTTPAdapter.send\u001b[0;34m(self, request, stream, timeout, verify, cert, proxies)\u001b[0m\n\u001b[1;32m    485\u001b[0m \u001b[39mtry\u001b[39;00m:\n\u001b[0;32m--> 486\u001b[0m     resp \u001b[39m=\u001b[39m conn\u001b[39m.\u001b[39;49murlopen(\n\u001b[1;32m    487\u001b[0m         method\u001b[39m=\u001b[39;49mrequest\u001b[39m.\u001b[39;49mmethod,\n\u001b[1;32m    488\u001b[0m         url\u001b[39m=\u001b[39;49murl,\n\u001b[1;32m    489\u001b[0m         body\u001b[39m=\u001b[39;49mrequest\u001b[39m.\u001b[39;49mbody,\n\u001b[1;32m    490\u001b[0m         headers\u001b[39m=\u001b[39;49mrequest\u001b[39m.\u001b[39;49mheaders,\n\u001b[1;32m    491\u001b[0m         redirect\u001b[39m=\u001b[39;49m\u001b[39mFalse\u001b[39;49;00m,\n\u001b[1;32m    492\u001b[0m         assert_same_host\u001b[39m=\u001b[39;49m\u001b[39mFalse\u001b[39;49;00m,\n\u001b[1;32m    493\u001b[0m         preload_content\u001b[39m=\u001b[39;49m\u001b[39mFalse\u001b[39;49;00m,\n\u001b[1;32m    494\u001b[0m         decode_content\u001b[39m=\u001b[39;49m\u001b[39mFalse\u001b[39;49;00m,\n\u001b[1;32m    495\u001b[0m         retries\u001b[39m=\u001b[39;49m\u001b[39mself\u001b[39;49m\u001b[39m.\u001b[39;49mmax_retries,\n\u001b[1;32m    496\u001b[0m         timeout\u001b[39m=\u001b[39;49mtimeout,\n\u001b[1;32m    497\u001b[0m         chunked\u001b[39m=\u001b[39;49mchunked,\n\u001b[1;32m    498\u001b[0m     )\n\u001b[1;32m    500\u001b[0m \u001b[39mexcept\u001b[39;00m (ProtocolError, \u001b[39mOSError\u001b[39;00m) \u001b[39mas\u001b[39;00m err:\n",
      "File \u001b[0;32m~/codeup-data-science/env/lib/python3.9/site-packages/urllib3/connectionpool.py:755\u001b[0m, in \u001b[0;36mHTTPConnectionPool.urlopen\u001b[0;34m(self, method, url, body, headers, retries, redirect, assert_same_host, timeout, pool_timeout, release_conn, chunked, body_pos, **response_kw)\u001b[0m\n\u001b[1;32m    753\u001b[0m     e \u001b[39m=\u001b[39m ProtocolError(\u001b[39m\"\u001b[39m\u001b[39mConnection aborted.\u001b[39m\u001b[39m\"\u001b[39m, e)\n\u001b[0;32m--> 755\u001b[0m retries \u001b[39m=\u001b[39m retries\u001b[39m.\u001b[39;49mincrement(\n\u001b[1;32m    756\u001b[0m     method, url, error\u001b[39m=\u001b[39;49me, _pool\u001b[39m=\u001b[39;49m\u001b[39mself\u001b[39;49m, _stacktrace\u001b[39m=\u001b[39;49msys\u001b[39m.\u001b[39;49mexc_info()[\u001b[39m2\u001b[39;49m]\n\u001b[1;32m    757\u001b[0m )\n\u001b[1;32m    758\u001b[0m retries\u001b[39m.\u001b[39msleep()\n",
      "File \u001b[0;32m~/codeup-data-science/env/lib/python3.9/site-packages/urllib3/util/retry.py:532\u001b[0m, in \u001b[0;36mRetry.increment\u001b[0;34m(self, method, url, response, error, _pool, _stacktrace)\u001b[0m\n\u001b[1;32m    531\u001b[0m \u001b[39mif\u001b[39;00m read \u001b[39mis\u001b[39;00m \u001b[39mFalse\u001b[39;00m \u001b[39mor\u001b[39;00m \u001b[39mnot\u001b[39;00m \u001b[39mself\u001b[39m\u001b[39m.\u001b[39m_is_method_retryable(method):\n\u001b[0;32m--> 532\u001b[0m     \u001b[39mraise\u001b[39;00m six\u001b[39m.\u001b[39;49mreraise(\u001b[39mtype\u001b[39;49m(error), error, _stacktrace)\n\u001b[1;32m    533\u001b[0m \u001b[39melif\u001b[39;00m read \u001b[39mis\u001b[39;00m \u001b[39mnot\u001b[39;00m \u001b[39mNone\u001b[39;00m:\n",
      "File \u001b[0;32m~/codeup-data-science/env/lib/python3.9/site-packages/urllib3/packages/six.py:769\u001b[0m, in \u001b[0;36mreraise\u001b[0;34m(tp, value, tb)\u001b[0m\n\u001b[1;32m    768\u001b[0m \u001b[39mif\u001b[39;00m value\u001b[39m.\u001b[39m__traceback__ \u001b[39mis\u001b[39;00m \u001b[39mnot\u001b[39;00m tb:\n\u001b[0;32m--> 769\u001b[0m     \u001b[39mraise\u001b[39;00m value\u001b[39m.\u001b[39mwith_traceback(tb)\n\u001b[1;32m    770\u001b[0m \u001b[39mraise\u001b[39;00m value\n",
      "File \u001b[0;32m~/codeup-data-science/env/lib/python3.9/site-packages/urllib3/connectionpool.py:699\u001b[0m, in \u001b[0;36mHTTPConnectionPool.urlopen\u001b[0;34m(self, method, url, body, headers, retries, redirect, assert_same_host, timeout, pool_timeout, release_conn, chunked, body_pos, **response_kw)\u001b[0m\n\u001b[1;32m    698\u001b[0m \u001b[39m# Make the request on the httplib connection object.\u001b[39;00m\n\u001b[0;32m--> 699\u001b[0m httplib_response \u001b[39m=\u001b[39m \u001b[39mself\u001b[39;49m\u001b[39m.\u001b[39;49m_make_request(\n\u001b[1;32m    700\u001b[0m     conn,\n\u001b[1;32m    701\u001b[0m     method,\n\u001b[1;32m    702\u001b[0m     url,\n\u001b[1;32m    703\u001b[0m     timeout\u001b[39m=\u001b[39;49mtimeout_obj,\n\u001b[1;32m    704\u001b[0m     body\u001b[39m=\u001b[39;49mbody,\n\u001b[1;32m    705\u001b[0m     headers\u001b[39m=\u001b[39;49mheaders,\n\u001b[1;32m    706\u001b[0m     chunked\u001b[39m=\u001b[39;49mchunked,\n\u001b[1;32m    707\u001b[0m )\n\u001b[1;32m    709\u001b[0m \u001b[39m# If we're going to release the connection in ``finally:``, then\u001b[39;00m\n\u001b[1;32m    710\u001b[0m \u001b[39m# the response doesn't need to know about the connection. Otherwise\u001b[39;00m\n\u001b[1;32m    711\u001b[0m \u001b[39m# it will also try to release it and we'll have a double-release\u001b[39;00m\n\u001b[1;32m    712\u001b[0m \u001b[39m# mess.\u001b[39;00m\n",
      "File \u001b[0;32m~/codeup-data-science/env/lib/python3.9/site-packages/urllib3/connectionpool.py:445\u001b[0m, in \u001b[0;36mHTTPConnectionPool._make_request\u001b[0;34m(self, conn, method, url, timeout, chunked, **httplib_request_kw)\u001b[0m\n\u001b[1;32m    441\u001b[0m         \u001b[39mexcept\u001b[39;00m \u001b[39mBaseException\u001b[39;00m \u001b[39mas\u001b[39;00m e:\n\u001b[1;32m    442\u001b[0m             \u001b[39m# Remove the TypeError from the exception chain in\u001b[39;00m\n\u001b[1;32m    443\u001b[0m             \u001b[39m# Python 3 (including for exceptions like SystemExit).\u001b[39;00m\n\u001b[1;32m    444\u001b[0m             \u001b[39m# Otherwise it looks like a bug in the code.\u001b[39;00m\n\u001b[0;32m--> 445\u001b[0m             six\u001b[39m.\u001b[39;49mraise_from(e, \u001b[39mNone\u001b[39;49;00m)\n\u001b[1;32m    446\u001b[0m \u001b[39mexcept\u001b[39;00m (SocketTimeout, BaseSSLError, SocketError) \u001b[39mas\u001b[39;00m e:\n",
      "File \u001b[0;32m<string>:3\u001b[0m, in \u001b[0;36mraise_from\u001b[0;34m(value, from_value)\u001b[0m\n",
      "File \u001b[0;32m~/codeup-data-science/env/lib/python3.9/site-packages/urllib3/connectionpool.py:440\u001b[0m, in \u001b[0;36mHTTPConnectionPool._make_request\u001b[0;34m(self, conn, method, url, timeout, chunked, **httplib_request_kw)\u001b[0m\n\u001b[1;32m    439\u001b[0m \u001b[39mtry\u001b[39;00m:\n\u001b[0;32m--> 440\u001b[0m     httplib_response \u001b[39m=\u001b[39m conn\u001b[39m.\u001b[39;49mgetresponse()\n\u001b[1;32m    441\u001b[0m \u001b[39mexcept\u001b[39;00m \u001b[39mBaseException\u001b[39;00m \u001b[39mas\u001b[39;00m e:\n\u001b[1;32m    442\u001b[0m     \u001b[39m# Remove the TypeError from the exception chain in\u001b[39;00m\n\u001b[1;32m    443\u001b[0m     \u001b[39m# Python 3 (including for exceptions like SystemExit).\u001b[39;00m\n\u001b[1;32m    444\u001b[0m     \u001b[39m# Otherwise it looks like a bug in the code.\u001b[39;00m\n",
      "File \u001b[0;32m/opt/homebrew/anaconda3/lib/python3.9/http/client.py:1377\u001b[0m, in \u001b[0;36mHTTPConnection.getresponse\u001b[0;34m(self)\u001b[0m\n\u001b[1;32m   1376\u001b[0m \u001b[39mtry\u001b[39;00m:\n\u001b[0;32m-> 1377\u001b[0m     response\u001b[39m.\u001b[39;49mbegin()\n\u001b[1;32m   1378\u001b[0m \u001b[39mexcept\u001b[39;00m \u001b[39mConnectionError\u001b[39;00m:\n",
      "File \u001b[0;32m/opt/homebrew/anaconda3/lib/python3.9/http/client.py:320\u001b[0m, in \u001b[0;36mHTTPResponse.begin\u001b[0;34m(self)\u001b[0m\n\u001b[1;32m    319\u001b[0m \u001b[39mwhile\u001b[39;00m \u001b[39mTrue\u001b[39;00m:\n\u001b[0;32m--> 320\u001b[0m     version, status, reason \u001b[39m=\u001b[39m \u001b[39mself\u001b[39;49m\u001b[39m.\u001b[39;49m_read_status()\n\u001b[1;32m    321\u001b[0m     \u001b[39mif\u001b[39;00m status \u001b[39m!=\u001b[39m CONTINUE:\n",
      "File \u001b[0;32m/opt/homebrew/anaconda3/lib/python3.9/http/client.py:281\u001b[0m, in \u001b[0;36mHTTPResponse._read_status\u001b[0;34m(self)\u001b[0m\n\u001b[1;32m    280\u001b[0m \u001b[39mdef\u001b[39;00m \u001b[39m_read_status\u001b[39m(\u001b[39mself\u001b[39m):\n\u001b[0;32m--> 281\u001b[0m     line \u001b[39m=\u001b[39m \u001b[39mstr\u001b[39m(\u001b[39mself\u001b[39;49m\u001b[39m.\u001b[39;49mfp\u001b[39m.\u001b[39;49mreadline(_MAXLINE \u001b[39m+\u001b[39;49m \u001b[39m1\u001b[39;49m), \u001b[39m\"\u001b[39m\u001b[39miso-8859-1\u001b[39m\u001b[39m\"\u001b[39m)\n\u001b[1;32m    282\u001b[0m     \u001b[39mif\u001b[39;00m \u001b[39mlen\u001b[39m(line) \u001b[39m>\u001b[39m _MAXLINE:\n",
      "File \u001b[0;32m/opt/homebrew/anaconda3/lib/python3.9/socket.py:704\u001b[0m, in \u001b[0;36mSocketIO.readinto\u001b[0;34m(self, b)\u001b[0m\n\u001b[1;32m    703\u001b[0m \u001b[39mtry\u001b[39;00m:\n\u001b[0;32m--> 704\u001b[0m     \u001b[39mreturn\u001b[39;00m \u001b[39mself\u001b[39;49m\u001b[39m.\u001b[39;49m_sock\u001b[39m.\u001b[39;49mrecv_into(b)\n\u001b[1;32m    705\u001b[0m \u001b[39mexcept\u001b[39;00m timeout:\n",
      "File \u001b[0;32m/opt/homebrew/anaconda3/lib/python3.9/ssl.py:1241\u001b[0m, in \u001b[0;36mSSLSocket.recv_into\u001b[0;34m(self, buffer, nbytes, flags)\u001b[0m\n\u001b[1;32m   1238\u001b[0m         \u001b[39mraise\u001b[39;00m \u001b[39mValueError\u001b[39;00m(\n\u001b[1;32m   1239\u001b[0m           \u001b[39m\"\u001b[39m\u001b[39mnon-zero flags not allowed in calls to recv_into() on \u001b[39m\u001b[39m%s\u001b[39;00m\u001b[39m\"\u001b[39m \u001b[39m%\u001b[39m\n\u001b[1;32m   1240\u001b[0m           \u001b[39mself\u001b[39m\u001b[39m.\u001b[39m\u001b[39m__class__\u001b[39m)\n\u001b[0;32m-> 1241\u001b[0m     \u001b[39mreturn\u001b[39;00m \u001b[39mself\u001b[39;49m\u001b[39m.\u001b[39;49mread(nbytes, buffer)\n\u001b[1;32m   1242\u001b[0m \u001b[39melse\u001b[39;00m:\n",
      "File \u001b[0;32m/opt/homebrew/anaconda3/lib/python3.9/ssl.py:1099\u001b[0m, in \u001b[0;36mSSLSocket.read\u001b[0;34m(self, len, buffer)\u001b[0m\n\u001b[1;32m   1098\u001b[0m \u001b[39mif\u001b[39;00m buffer \u001b[39mis\u001b[39;00m \u001b[39mnot\u001b[39;00m \u001b[39mNone\u001b[39;00m:\n\u001b[0;32m-> 1099\u001b[0m     \u001b[39mreturn\u001b[39;00m \u001b[39mself\u001b[39;49m\u001b[39m.\u001b[39;49m_sslobj\u001b[39m.\u001b[39;49mread(\u001b[39mlen\u001b[39;49m, buffer)\n\u001b[1;32m   1100\u001b[0m \u001b[39melse\u001b[39;00m:\n",
      "\u001b[0;31mProtocolError\u001b[0m: ('Connection aborted.', ConnectionResetError(54, 'Connection reset by peer'))",
      "\nDuring handling of the above exception, another exception occurred:\n",
      "\u001b[0;31mConnectionError\u001b[0m                           Traceback (most recent call last)",
      "Cell \u001b[0;32mIn[77], line 12\u001b[0m\n\u001b[1;32m      7\u001b[0m files \u001b[39m=\u001b[39m {\u001b[39m'\u001b[39m\u001b[39maddressFile\u001b[39m\u001b[39m'\u001b[39m: (file_path, \u001b[39mopen\u001b[39m(file_path, \u001b[39m'\u001b[39m\u001b[39mrb\u001b[39m\u001b[39m'\u001b[39m), \u001b[39m'\u001b[39m\u001b[39mtext/csv\u001b[39m\u001b[39m'\u001b[39m)}\n\u001b[1;32m     10\u001b[0m payload \u001b[39m=\u001b[39m {\u001b[39m'\u001b[39m\u001b[39mbenchmark\u001b[39m\u001b[39m'\u001b[39m:\u001b[39m'\u001b[39m\u001b[39mPublic_AR_Current\u001b[39m\u001b[39m'\u001b[39m, \u001b[39m'\u001b[39m\u001b[39mvintage\u001b[39m\u001b[39m'\u001b[39m:\u001b[39m'\u001b[39m\u001b[39mCensus2010_Current\u001b[39m\u001b[39m'\u001b[39m}\n\u001b[0;32m---> 12\u001b[0m s \u001b[39m=\u001b[39m requests\u001b[39m.\u001b[39;49mpost(url, files\u001b[39m=\u001b[39;49mfiles, data\u001b[39m=\u001b[39;49mpayload)\n",
      "File \u001b[0;32m~/codeup-data-science/env/lib/python3.9/site-packages/requests/api.py:115\u001b[0m, in \u001b[0;36mpost\u001b[0;34m(url, data, json, **kwargs)\u001b[0m\n\u001b[1;32m    103\u001b[0m \u001b[39mdef\u001b[39;00m \u001b[39mpost\u001b[39m(url, data\u001b[39m=\u001b[39m\u001b[39mNone\u001b[39;00m, json\u001b[39m=\u001b[39m\u001b[39mNone\u001b[39;00m, \u001b[39m*\u001b[39m\u001b[39m*\u001b[39mkwargs):\n\u001b[1;32m    104\u001b[0m \u001b[39m    \u001b[39m\u001b[39mr\u001b[39m\u001b[39m\"\"\"Sends a POST request.\u001b[39;00m\n\u001b[1;32m    105\u001b[0m \n\u001b[1;32m    106\u001b[0m \u001b[39m    :param url: URL for the new :class:`Request` object.\u001b[39;00m\n\u001b[0;32m   (...)\u001b[0m\n\u001b[1;32m    112\u001b[0m \u001b[39m    :rtype: requests.Response\u001b[39;00m\n\u001b[1;32m    113\u001b[0m \u001b[39m    \"\"\"\u001b[39;00m\n\u001b[0;32m--> 115\u001b[0m     \u001b[39mreturn\u001b[39;00m request(\u001b[39m\"\u001b[39;49m\u001b[39mpost\u001b[39;49m\u001b[39m\"\u001b[39;49m, url, data\u001b[39m=\u001b[39;49mdata, json\u001b[39m=\u001b[39;49mjson, \u001b[39m*\u001b[39;49m\u001b[39m*\u001b[39;49mkwargs)\n",
      "File \u001b[0;32m~/codeup-data-science/env/lib/python3.9/site-packages/requests/api.py:59\u001b[0m, in \u001b[0;36mrequest\u001b[0;34m(method, url, **kwargs)\u001b[0m\n\u001b[1;32m     55\u001b[0m \u001b[39m# By using the 'with' statement we are sure the session is closed, thus we\u001b[39;00m\n\u001b[1;32m     56\u001b[0m \u001b[39m# avoid leaving sockets open which can trigger a ResourceWarning in some\u001b[39;00m\n\u001b[1;32m     57\u001b[0m \u001b[39m# cases, and look like a memory leak in others.\u001b[39;00m\n\u001b[1;32m     58\u001b[0m \u001b[39mwith\u001b[39;00m sessions\u001b[39m.\u001b[39mSession() \u001b[39mas\u001b[39;00m session:\n\u001b[0;32m---> 59\u001b[0m     \u001b[39mreturn\u001b[39;00m session\u001b[39m.\u001b[39;49mrequest(method\u001b[39m=\u001b[39;49mmethod, url\u001b[39m=\u001b[39;49murl, \u001b[39m*\u001b[39;49m\u001b[39m*\u001b[39;49mkwargs)\n",
      "File \u001b[0;32m~/codeup-data-science/env/lib/python3.9/site-packages/requests/sessions.py:589\u001b[0m, in \u001b[0;36mSession.request\u001b[0;34m(self, method, url, params, data, headers, cookies, files, auth, timeout, allow_redirects, proxies, hooks, stream, verify, cert, json)\u001b[0m\n\u001b[1;32m    584\u001b[0m send_kwargs \u001b[39m=\u001b[39m {\n\u001b[1;32m    585\u001b[0m     \u001b[39m\"\u001b[39m\u001b[39mtimeout\u001b[39m\u001b[39m\"\u001b[39m: timeout,\n\u001b[1;32m    586\u001b[0m     \u001b[39m\"\u001b[39m\u001b[39mallow_redirects\u001b[39m\u001b[39m\"\u001b[39m: allow_redirects,\n\u001b[1;32m    587\u001b[0m }\n\u001b[1;32m    588\u001b[0m send_kwargs\u001b[39m.\u001b[39mupdate(settings)\n\u001b[0;32m--> 589\u001b[0m resp \u001b[39m=\u001b[39m \u001b[39mself\u001b[39;49m\u001b[39m.\u001b[39;49msend(prep, \u001b[39m*\u001b[39;49m\u001b[39m*\u001b[39;49msend_kwargs)\n\u001b[1;32m    591\u001b[0m \u001b[39mreturn\u001b[39;00m resp\n",
      "File \u001b[0;32m~/codeup-data-science/env/lib/python3.9/site-packages/requests/sessions.py:703\u001b[0m, in \u001b[0;36mSession.send\u001b[0;34m(self, request, **kwargs)\u001b[0m\n\u001b[1;32m    700\u001b[0m start \u001b[39m=\u001b[39m preferred_clock()\n\u001b[1;32m    702\u001b[0m \u001b[39m# Send the request\u001b[39;00m\n\u001b[0;32m--> 703\u001b[0m r \u001b[39m=\u001b[39m adapter\u001b[39m.\u001b[39;49msend(request, \u001b[39m*\u001b[39;49m\u001b[39m*\u001b[39;49mkwargs)\n\u001b[1;32m    705\u001b[0m \u001b[39m# Total elapsed time of the request (approximately)\u001b[39;00m\n\u001b[1;32m    706\u001b[0m elapsed \u001b[39m=\u001b[39m preferred_clock() \u001b[39m-\u001b[39m start\n",
      "File \u001b[0;32m~/codeup-data-science/env/lib/python3.9/site-packages/requests/adapters.py:501\u001b[0m, in \u001b[0;36mHTTPAdapter.send\u001b[0;34m(self, request, stream, timeout, verify, cert, proxies)\u001b[0m\n\u001b[1;32m    486\u001b[0m     resp \u001b[39m=\u001b[39m conn\u001b[39m.\u001b[39murlopen(\n\u001b[1;32m    487\u001b[0m         method\u001b[39m=\u001b[39mrequest\u001b[39m.\u001b[39mmethod,\n\u001b[1;32m    488\u001b[0m         url\u001b[39m=\u001b[39murl,\n\u001b[0;32m   (...)\u001b[0m\n\u001b[1;32m    497\u001b[0m         chunked\u001b[39m=\u001b[39mchunked,\n\u001b[1;32m    498\u001b[0m     )\n\u001b[1;32m    500\u001b[0m \u001b[39mexcept\u001b[39;00m (ProtocolError, \u001b[39mOSError\u001b[39;00m) \u001b[39mas\u001b[39;00m err:\n\u001b[0;32m--> 501\u001b[0m     \u001b[39mraise\u001b[39;00m \u001b[39mConnectionError\u001b[39;00m(err, request\u001b[39m=\u001b[39mrequest)\n\u001b[1;32m    503\u001b[0m \u001b[39mexcept\u001b[39;00m MaxRetryError \u001b[39mas\u001b[39;00m e:\n\u001b[1;32m    504\u001b[0m     \u001b[39mif\u001b[39;00m \u001b[39misinstance\u001b[39m(e\u001b[39m.\u001b[39mreason, ConnectTimeoutError):\n\u001b[1;32m    505\u001b[0m         \u001b[39m# TODO: Remove this in 3.0.0: see #2811\u001b[39;00m\n",
      "\u001b[0;31mConnectionError\u001b[0m: ('Connection aborted.', ConnectionResetError(54, 'Connection reset by peer'))"
     ]
    }
   ],
   "source": [
    "returntype = 'geographies'\n",
    "searchtype = 'addressbatch'\n",
    "url = f'https://geocoding.geo.census.gov/geocoder/{returntype}/{searchtype}'\n",
    "\n",
    "# establishing the \n",
    "file_path = './data/address_batch_1.csv'\n",
    "files = {'addressFile': (file_path, open(file_path, 'rb'), 'text/csv')}\n",
    "\n",
    "\n",
    "payload = {'benchmark':'Public_AR_Current', 'vintage':'Census2010_Current'}\n",
    "\n",
    "s = requests.post(url, files=files, data=payload)"
   ]
  },
  {
   "cell_type": "code",
   "execution_count": null,
   "metadata": {},
   "outputs": [],
   "source": [
    "type(s)"
   ]
  },
  {
   "cell_type": "code",
   "execution_count": null,
   "metadata": {},
   "outputs": [],
   "source": [
    "pd.read_csv(io.StringIO(s.text), sep=',', header=None, quoting=csv.QUOTE_ALL)\n",
    "\n",
    "with pd.option_context(\n",
    "    'display.width', None, \n",
    "    'display.max_columns', None,\n",
    "    'display.max_colwidth', -1,\n",
    "    'display.colheader_justify', 'left'\n",
    "):\n",
    "    print(df)"
   ]
  },
  {
   "cell_type": "code",
   "execution_count": null,
   "metadata": {},
   "outputs": [],
   "source": []
  },
  {
   "cell_type": "code",
   "execution_count": null,
   "metadata": {},
   "outputs": [],
   "source": []
  }
 ],
 "metadata": {
  "kernelspec": {
   "display_name": "env",
   "language": "python",
   "name": "python3"
  },
  "language_info": {
   "codemirror_mode": {
    "name": "ipython",
    "version": 3
   },
   "file_extension": ".py",
   "mimetype": "text/x-python",
   "name": "python",
   "nbconvert_exporter": "python",
   "pygments_lexer": "ipython3",
   "version": "3.9.12"
  },
  "orig_nbformat": 4
 },
 "nbformat": 4,
 "nbformat_minor": 2
}
